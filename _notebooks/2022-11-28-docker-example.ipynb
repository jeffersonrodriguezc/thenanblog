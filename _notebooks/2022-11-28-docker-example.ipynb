{
  "cells": [
    {
      "cell_type": "markdown",
      "source": [
        "# \"Prueba\"\n",
        "> \"Awesome summary\"\n",
        "\n",
        "- toc: false\n",
        "- branch: master\n",
        "- badges: true\n",
        "- comments: true\n",
        "- categories: [docker, jupyter]\n",
        "- image: images/diagram.png\n",
        "- hide: false\n",
        "- search_exclude: true\n",
        "- metadata_key1: metadata_value1\n",
        "- metadata_key2: metadata_value2"
      ],
      "metadata": {
        "id": "14yunNyT3XFt"
      }
    },
    {
      "cell_type": "markdown",
      "metadata": {
        "id": "-xLwaTAq2qdp"
      },
      "source": [
        "# A Whirlwind tour of Docker"
      ]
    },
    {
      "cell_type": "markdown",
      "metadata": {
        "id": "lDaEizb82qdx"
      },
      "source": [
        "### Introduction"
      ]
    },
    {
      "cell_type": "markdown",
      "metadata": {
        "id": "USsSSfjn2qd1"
      },
      "source": [
        "So that now that we have access to docker software,  let's give it a spin.  We can start by using Docker to install a pretty nice blog on our computer.  Let's get started."
      ]
    },
    {
      "cell_type": "markdown",
      "metadata": {
        "id": "-uaG1YCW2qd5"
      },
      "source": [
        "### Docker Command Line"
      ]
    },
    {
      "cell_type": "markdown",
      "metadata": {
        "id": "qa0WlXyy2qd7"
      },
      "source": [
        "We can make sure that docker is installed, by typing the following:"
      ]
    },
    {
      "cell_type": "markdown",
      "metadata": {
        "id": "jFvV2-6J2qd_"
      },
      "source": [
        "```\n",
        "docker -v\n",
        "Docker version 19.03.12, build 48a66213fe\n",
        "```"
      ]
    },
    {
      "cell_type": "markdown",
      "metadata": {
        "id": "wRkP_sjO2qeE"
      },
      "source": [
        "Next, let's let's see if we can install ghost -- a popular blogging platform.  After we get it setup, ghost will look something like the following:"
      ]
    },
    {
      "cell_type": "markdown",
      "metadata": {
        "id": "kJDfrqgE2qeH"
      },
      "source": [
        "<img src=\"https://github.com/jigsawlabs-student/docker-intro/blob/master/0-docker-intro/ghost-preview.jpg?raw=1\" width=\"40%\">"
      ]
    },
    {
      "cell_type": "markdown",
      "metadata": {
        "id": "mxySgGZX2qeM"
      },
      "source": [
        "The instructions for installing ghost are available on [Dockerhub](https://hub.docker.com/_/ghost).  There, it says to run the following:"
      ]
    },
    {
      "cell_type": "markdown",
      "metadata": {
        "id": "sJiKb6Iu2qeR"
      },
      "source": [
        "```\n",
        "docker pull ghost:4.8.0\n",
        "```\n",
        "\n",
        "> The `4.8.0` is to specify the version of ghost we are installing."
      ]
    },
    {
      "cell_type": "markdown",
      "metadata": {
        "id": "19s9qkWW2qeU"
      },
      "source": [
        "After doing so, you may see something like the following."
      ]
    },
    {
      "cell_type": "markdown",
      "metadata": {
        "id": "095pS6CV2qeW"
      },
      "source": [
        "<img src=\"https://github.com/jigsawlabs-student/docker-intro/blob/master/0-docker-intro/docker-ghost-4.png?raw=1\" width=\"60%\">"
      ]
    },
    {
      "cell_type": "markdown",
      "metadata": {
        "id": "5BAfenaZ2qeY"
      },
      "source": [
        "What you can see above is that docker is ensuring that it installs multiple images.  We'll talk about this in more detail in the next lesson, but for now we can think of each image just as another package of software that we need to run our service."
      ]
    },
    {
      "cell_type": "markdown",
      "metadata": {
        "id": "Mk6PHXt82qeb"
      },
      "source": [
        "### Working with Containers"
      ]
    },
    {
      "cell_type": "markdown",
      "metadata": {
        "id": "jkGLhRqP2qeb"
      },
      "source": [
        "Ok, so far, we've downloaded the ghost image, whatever that is.  Now let's boot up ghost into a container.  We can do so with the following command:"
      ]
    },
    {
      "cell_type": "markdown",
      "metadata": {
        "id": "FXCguudQ2qec"
      },
      "source": [
        "`docker run ghost:4.8.0`"
      ]
    },
    {
      "cell_type": "markdown",
      "metadata": {
        "id": "-hYpaeJu2qee"
      },
      "source": [
        "<img src=\"https://github.com/jigsawlabs-student/docker-intro/blob/master/0-docker-intro/booting-ghost.png?raw=1\" width=\"40%\">"
      ]
    },
    {
      "cell_type": "markdown",
      "metadata": {
        "id": "EiP35iPT2qeg"
      },
      "source": [
        "So it looks like that's doing a lot.  It's creating the tables for our blog, among other things.  At the bottom, we can see the statement `Your site is now available on http://localhost:2368`."
      ]
    },
    {
      "cell_type": "markdown",
      "metadata": {
        "id": "8xacMpVN2qeh"
      },
      "source": [
        "<img src=\"https://github.com/jigsawlabs-student/docker-intro/blob/master/0-docker-intro/ghost-terminal.png?raw=1\" width=\"60%\">"
      ]
    },
    {
      "cell_type": "markdown",
      "metadata": {
        "id": "ghlkX__P2qei"
      },
      "source": [
        "Ok, so let's go to that web address in our browser and take a look."
      ]
    },
    {
      "cell_type": "markdown",
      "metadata": {
        "id": "ip1ft5tY2qek"
      },
      "source": [
        "<img src=\"https://github.com/jigsawlabs-student/docker-intro/blob/master/0-docker-intro/docker-attempt.png?raw=1\" width=\"60%\">"
      ]
    },
    {
      "cell_type": "markdown",
      "metadata": {
        "id": "K1a02AOf2qel"
      },
      "source": [
        "That's a bummer, but it has an easy fix.  This time, let's shut down own container by pressing `ctl+c` in our terminal."
      ]
    },
    {
      "cell_type": "markdown",
      "metadata": {
        "id": "4mZmBWIv2qen"
      },
      "source": [
        "<img src=\"https://github.com/jigsawlabs-student/docker-intro/blob/master/0-docker-intro/ending-ghost.png?raw=1\" width=\"60%\">"
      ]
    },
    {
      "cell_type": "markdown",
      "metadata": {
        "id": "fW1iYCD72qep"
      },
      "source": [
        "And then re-running our container, this time updating our command to the following:\n",
        "\n",
        "`docker run -p 8080:2368 ghost:4.8.0`"
      ]
    },
    {
      "cell_type": "markdown",
      "metadata": {
        "id": "LvG4twOS2qeq"
      },
      "source": [
        "<img src=\"https://github.com/jigsawlabs-student/docker-intro/blob/master/0-docker-intro/working-ghost.png?raw=1\" width=\"60%\">"
      ]
    },
    {
      "cell_type": "markdown",
      "metadata": {
        "id": "AiLuSnPh2qer"
      },
      "source": [
        "Then go to `localhost:8080` and we'll see our fully functional blogging platform."
      ]
    },
    {
      "cell_type": "markdown",
      "metadata": {
        "id": "GPuzeu602qes"
      },
      "source": [
        "## Time for the Questions"
      ]
    },
    {
      "cell_type": "markdown",
      "metadata": {
        "id": "nk6yDrwb2qet"
      },
      "source": [
        "At this point, we have just a bit of knowledge about Docker.  Perhaps enough knowledge to piece together some questions.  Let's try."
      ]
    },
    {
      "cell_type": "markdown",
      "metadata": {
        "id": "5iXhN18n2qeu"
      },
      "source": [
        "1. Images \n",
        "\n",
        "It sounds like we used an image to download our software.  But we're still not quite sure what an image is.  Also, when we initially pulled our image, we saw the following:"
      ]
    },
    {
      "cell_type": "markdown",
      "metadata": {
        "id": "ZAveEm192qev"
      },
      "source": [
        "<img src=\"https://github.com/jigsawlabs-student/docker-intro/blob/master/0-docker-intro/docker-ghost-4.png?raw=1\" width=\"70%\">"
      ]
    },
    {
      "cell_type": "markdown",
      "metadata": {
        "id": "5gmloHh82qew"
      },
      "source": [
        "Each of these ids to the left is identifying another image used for ghost.  So we have images inside of our image?  Yes.  We'll learn why.\n",
        "\n",
        "2. Containers\n",
        "\n",
        "It sounds like we run an image by booting up a container.  But how does a container relate to an image?  \n",
        "\n",
        "3. Isolation\n",
        "\n",
        "When we ran our container the first time with `docker run ghost` at the bottom of the terminal, it said our website was available at `localhost:2368`.  But really, our website was inaccessible until we updated our command to the following: \n",
        "\n",
        "`docker run -p 8080:2368 ghost:4.8.0`\n",
        "\n",
        "Docker was initially isolating the container from the rest of our computer, and then we asked Docker to expose a part of this container (it's port) to `8080`.  Only then could we see our website.  We'll learn about how Docker isolates our environments and why it's important."
      ]
    },
    {
      "cell_type": "markdown",
      "metadata": {
        "id": "A0U5ha202qey"
      },
      "source": [
        "But we'll leave all of these questions for the next lesson."
      ]
    },
    {
      "cell_type": "markdown",
      "metadata": {
        "id": "cbDfhGOL2qez"
      },
      "source": [
        "### Resources \n",
        "[Docker for Windows](https://towardsdatascience.com/make-your-data-science-life-easy-with-docker-c3e1fc0dee59)"
      ]
    },
    {
      "cell_type": "markdown",
      "metadata": {
        "id": "2_cpdYKA2qe1"
      },
      "source": [
        "[Docker Curriculum](https://docker-curriculum.com/)"
      ]
    }
  ],
  "metadata": {
    "kernelspec": {
      "display_name": "Python 3 (ipykernel)",
      "language": "python",
      "name": "python3"
    },
    "language_info": {
      "codemirror_mode": {
        "name": "ipython",
        "version": 3
      },
      "file_extension": ".py",
      "mimetype": "text/x-python",
      "name": "python",
      "nbconvert_exporter": "python",
      "pygments_lexer": "ipython3",
      "version": "3.10.6"
    },
    "colab": {
      "provenance": []
    }
  },
  "nbformat": 4,
  "nbformat_minor": 0
}