{
  "nbformat": 4,
  "nbformat_minor": 0,
  "metadata": {
    "colab": {
      "name": "Tutorial_SLT",
      "provenance": [],
      "collapsed_sections": [],
      "include_colab_link": true
    },
    "kernelspec": {
      "display_name": "Python 3",
      "language": "python",
      "name": "python3"
    },
    "language_info": {
      "codemirror_mode": {
        "name": "ipython",
        "version": 3
      },
      "file_extension": ".py",
      "mimetype": "text/x-python",
      "name": "python",
      "nbconvert_exporter": "python",
      "pygments_lexer": "ipython3",
      "version": "3.6.9"
    }
  },
  "cells": [
    {
      "cell_type": "markdown",
      "metadata": {
        "id": "view-in-github",
        "colab_type": "text"
      },
      "source": [
        "<a href=\"https://colab.research.google.com/github/jeffersonrodriguezc/thenanblog/blob/master/_notebooks/2021-06-14-SLT.ipynb\" target=\"_parent\"><img src=\"https://colab.research.google.com/assets/colab-badge.svg\" alt=\"Open In Colab\"/></a>"
      ]
    },
    {
      "cell_type": "markdown",
      "metadata": {
        "id": "pvvGGM66Micx"
      },
      "source": [
        "# Tutorial: How to translate Sign language from video to text\n",
        "> In this tutorial we will explain the main steps to translate video signs to text translation. All the necessary steps and the seq2seq models to do it.\n",
        "\n",
        "- toc:true- branch: master\n",
        "- badges: true\n",
        "- comments: true\n",
        "- author: Jefferson Rodríguez\n",
        "- categories: [SLT, SLR, seq2seq]"
      ]
    },
    {
      "cell_type": "markdown",
      "metadata": {
        "id": "fOybyHX0ZW3k"
      },
      "source": [
        "# Imports (libraries)"
      ]
    },
    {
      "cell_type": "code",
      "metadata": {
        "id": "CqDQ2WhWM8ns"
      },
      "source": [
        "#collapse-hide\n",
        "!pip install -q torchfile\n",
        "!pip install -q tensorflow-addons\n",
        "import os\n",
        "import cv2\n",
        "import copy\n",
        "import time\n",
        "import math\n",
        "import h5py\n",
        "import json\n",
        "import codecs\n",
        "import pickle\n",
        "import shutil\n",
        "import psutil\n",
        "import imageio\n",
        "import datetime\n",
        "import torchfile\n",
        "import numpy as np\n",
        "import pandas as pd\n",
        "from tqdm import tqdm\n",
        "import tensorflow as tf\n",
        "from PIL import ImageFile\n",
        "from skimage.io import imread\n",
        "import tensorflow_addons as tfa\n",
        "import matplotlib.pyplot as plt\n",
        "import matplotlib.image as pimage\n",
        "from collections import namedtuple\n",
        "from collections import defaultdict\n",
        "from skimage.transform import resize\n",
        "import tensorflow.keras.backend as K\n",
        "from tensorflow.keras import optimizers\n",
        "from tensorflow.keras.models import Model\n",
        "from tensorflow.keras.backend import mean\n",
        "from tensorflow.keras.regularizers import l2\n",
        "from tensorflow.keras.utils import to_categorical\n",
        "from tensorflow.keras.initializers import Constant\n",
        "from tensorflow.keras.callbacks import ModelCheckpoint\n",
        "from tensorflow.keras.preprocessing.text import Tokenizer\n",
        "from tensorflow.keras.callbacks import LearningRateScheduler\n",
        "from tensorflow.keras.preprocessing.sequence import pad_sequences\n",
        "gpus = tf.config.experimental.list_physical_devices('GPU')\n",
        "#tf.config.experimental.set_memory_growth(gpus[0], True)\n",
        "ImageFile.LOAD_TRUNCATED_IMAGES = True\n",
        "tf.random.set_seed(1031)\n",
        "np.random.seed(1031)\n",
        "K.set_image_data_format(\"channels_last\")"
      ],
      "execution_count": 3,
      "outputs": []
    },
    {
      "cell_type": "code",
      "metadata": {
        "colab": {
          "base_uri": "https://localhost:8080/"
        },
        "id": "7qOry5lSnGEA",
        "outputId": "c3e3edbc-ab6e-4fcd-bc9d-d69a65f375c2"
      },
      "source": [
        "from google.colab import drive\n",
        "drive.mount('/content/drive')"
      ],
      "execution_count": 4,
      "outputs": [
        {
          "output_type": "stream",
          "text": [
            "Mounted at /content/drive\n"
          ],
          "name": "stdout"
        }
      ]
    },
    {
      "cell_type": "markdown",
      "metadata": {
        "id": "P5RjK_utZgzx"
      },
      "source": [
        "# What is Sign languge translation??"
      ]
    },
    {
      "cell_type": "markdown",
      "metadata": {
        "id": "ZREIjGOMZo9b"
      },
      "source": [
        "# Step 1: Select and explore a sign language dataset."
      ]
    },
    {
      "cell_type": "markdown",
      "metadata": {
        "id": "hBdeDA3zbOxl"
      },
      "source": [
        "In this tutorial we are going to use the Colombian sign language dataset presented in this [paper](https://openaccess.thecvf.com/content/ACCV2020/html/Rodriguez_Understanding_Motion_in_Sign_Language_A_New_Structured_Translation_Dataset_ACCV_2020_paper.html) (*Understanding Motion in Sign Language: A New Structured Translation Dataset*).  The dataset contains 1020 videos, 39 sentences from 9 signers and can be downloaded from this [website](https://bivl2ab.gitlab.io/research/2020-juan-colombiansld/lscd/). The dataset contains pre-calculated information such as flow, open poses and dense poses. However, in this post we only cover the RGB videos."
      ]
    },
    {
      "cell_type": "markdown",
      "metadata": {
        "id": "9DQC2dxOdlLq"
      },
      "source": [
        "## Task 1: Create the dataset using generators and *tensorflow data API*"
      ]
    },
    {
      "cell_type": "code",
      "metadata": {
        "id": "YMBFtoD2fUgE"
      },
      "source": [
        "#collapse-hide\n",
        "class generator(object):\n",
        "    \"\"\"\n",
        "    Generator class to read the video and the corresponding translation at the same time.\n",
        "    \"\"\"\n",
        "    def __init__(self, paths_sentences, padded_sentences, params):\n",
        "        'Initialization'\n",
        "        self.dim = params.inputShape\n",
        "        self.vocab_size = params.vocab_size\n",
        "        self.list_IDs = np.random.permutation(paths_sentences)\n",
        "        self.paths_sentences = paths_sentences\n",
        "        self.padded_sentences = padded_sentences\n",
        "\n",
        "    def read_video(self, path_video):\n",
        "        \"\"\"\n",
        "        Function to read the video. \n",
        "        \"\"\"\n",
        "        # list in order all frames of the video\n",
        "        frames = sorted(os.listdir(path_video))\n",
        "        video = []\n",
        "        for frame in sorted(frames):\n",
        "            frame_rgb = imageio.imread()                       \n",
        "            video.append(total_frame)\n",
        "        \n",
        "        return np.array(video)     \n",
        "\n",
        "    def get_next(self):\n",
        "        for idx in range(len(self.list_IDs)):\n",
        "            path_video = os.path.join(self.list_IDs[idx])\n",
        "            index = np.argwhere(self.paths_sentences==self.list_IDs[idx])[0]\n",
        "            padded_sentence = self.padded_sentences[index,:-1]\n",
        "            target = self.padded_sentences[index,1:]                \n",
        "            video = self.read_video(path_video)\n",
        "             \n",
        "            yield {\"encoder_input\":video, \n",
        "                   \"decoder_input\":np.squeeze(padded_sentence),\n",
        "                   \"path\":[path_video]}, np.squeeze(target)"
      ],
      "execution_count": null,
      "outputs": []
    },
    {
      "cell_type": "markdown",
      "metadata": {
        "id": "kyYi2xMuCcAk"
      },
      "source": [
        "### 2. Parameters"
      ]
    },
    {
      "cell_type": "code",
      "metadata": {
        "id": "2bt2pSQOCcAm"
      },
      "source": [
        "#@title pameters (namedtuple) { display-mode: \"form\" }\n",
        "Args = namedtuple('Args', ['tx', \n",
        "                           'ty',\n",
        "                           'inputShape',\n",
        "                           'denseUnits',\n",
        "                           'rnnUnits',\n",
        "                           'selfUnits',\n",
        "                           'unitsEmbedding',\n",
        "                           'vocab_size',\n",
        "                           'dropout',\n",
        "                           'recurrent_dropout', \n",
        "                           'epochs',\n",
        "                           'nIters',\n",
        "                           'batchSize',\n",
        "                           'lr',\n",
        "                           'decay',\n",
        "                           'weight_decay',\n",
        "                           'prefetch_batch_buffer', \n",
        "                           'dataset',\n",
        "                           'data',\n",
        "                           'videos_path',\n",
        "                           'path2save',\n",
        "                           'name',\n",
        "                           'sets',\n",
        "                           'subsampling',\n",
        "                           'pad',\n",
        "                           'augmentation',\n",
        "                           'kpoints',\n",
        "                           'maxframes',\n",
        "                           'weights',\n",
        "                           'layer2freeze',\n",
        "                           'method'])\n",
        "\n",
        "args = Args(tx=112, \n",
        "            ty=14,\n",
        "            inputShape=(112, 112, 112, 3),\n",
        "            denseUnits=512,\n",
        "            rnnUnits=512,\n",
        "            selfUnits=64,\n",
        "            unitsEmbedding=300,\n",
        "            vocab_size=117,\n",
        "            dropout=0.2,\n",
        "            recurrent_dropout=0.2,\n",
        "            epochs=10,\n",
        "            nIters=6.0,\n",
        "            batchSize=1,\n",
        "            lr=0.001,\n",
        "            decay=0.1,\n",
        "            weight_decay=0.0005,\n",
        "            prefetch_batch_buffer = 5,\n",
        "            dataset='LSCD',\n",
        "            data='/data/Datasets/signlanguage/LSCD/data/split1/',\n",
        "            videos_path='/data/Datasets/signlanguage',\n",
        "            path2save=os.getcwd()+'/results/translations/',\n",
        "            name='LSCD',\n",
        "            sets=['train', 'test'],\n",
        "            subsampling='volume',\n",
        "            pad='zeros',\n",
        "            augmentation=['noflip'],\n",
        "            kpoints = 122,\n",
        "            maxframes = 598,\n",
        "            weights = 'ucf1_rgb100_fromC3D_71',\n",
        "            layer2freeze = 50,\n",
        "            method = 'flow') #FlowNet2png"
      ],
      "execution_count": null,
      "outputs": []
    },
    {
      "cell_type": "markdown",
      "metadata": {
        "id": "Q7SuMQ8mCcA3"
      },
      "source": [
        "### Dataset and text processing helpers"
      ]
    },
    {
      "cell_type": "code",
      "metadata": {
        "id": "g3pInrVVO-Nt"
      },
      "source": [
        "#@title helper functions for text proccesing\n",
        "def preprocessing_paths(video_paths, path2videos):\n",
        "    \"\"\"\n",
        "    This functions chage the path placeholder for the right path\n",
        "    \"\"\"\n",
        "    paths = list()\n",
        "    for video_path in video_paths:\n",
        "        folder = video_path.split('.')[-1]\n",
        "        with codecs.getreader(\"utf-8\")(tf.io.gfile.GFile(video_path, \"rb\")) as f:\n",
        "            for path in f:\n",
        "                new_path = path.replace('<PATH_TO_EXTRACTED_AND_RESIZED_FRAMES>', path2videos).strip()\n",
        "                if len(new_path) > 1:\n",
        "                    paths.append([new_path, folder])\n",
        "    return paths\n",
        "\n",
        "def preprocessing_sentences(paths_sentences):\n",
        "  \"\"\" \n",
        "  This functions build the vocab from path of sentences\n",
        "  \"\"\"\n",
        "  lens = []\n",
        "  for path in paths_sentences:\n",
        "    with codecs.getreader(\"utf-8\")(tf.io.gfile.GFile(path, \"rb\")) as f:\n",
        "      for sentence in f:\n",
        "        lens.append(len(sentence.split(' '))+2)\n",
        "  max_len = max(lens)\n",
        "  outputs = list()\n",
        "  tokenizer = Tokenizer(oov_token='<unk>', \n",
        "                        filters='!\"#$%&()*+,-:;=@[\\\\]^_`{|}~\\t\\n')\n",
        "  for path in paths_sentences:\n",
        "    sentences = list()\n",
        "    if path.split('.')[-1] == 'train':  \n",
        "      print('Reading training file ...')  \n",
        "      with codecs.getreader(\"utf-8\")(tf.io.gfile.GFile(path, \"rb\")) as f:\n",
        "        for sentence in f:\n",
        "          sentences.append('<s> ' + sentence.strip() + ' </s>')\n",
        "        print('training on train sentences to make the vocab ...')\n",
        "        tokenizer.fit_on_texts(sentences)\n",
        "        tokenizer.word_index['<pad>'] = 0\n",
        "        tokenizer.index_word[0] = '<pad>'\n",
        "        print('training text to index sequences ..')\n",
        "        sequences_token = tokenizer.texts_to_sequences(sentences)\n",
        "        print('training index sequences to padded sequences ..')\n",
        "        sequences_padded = pad_sequences(sequences_token, maxlen=max_len,\n",
        "                                         padding='post')\n",
        "        outputs.append(sequences_padded)\n",
        "    else:\n",
        "      print('Computing same steps over dev and test sequences')\n",
        "      with codecs.getreader(\"utf-8\")(tf.io.gfile.GFile(path, \"rb\")) as f:\n",
        "        for sentence in f:\n",
        "          sentences.append('<s> ' + sentence.strip() + ' </s>')  \n",
        "        sequences_token = tokenizer.texts_to_sequences(sentences)\n",
        "        sequences_padded = pad_sequences(sequences_token, maxlen=max_len,\n",
        "                                         padding='post')\n",
        "        outputs.append(sequences_padded)           \n",
        "  return (outputs, tokenizer) \n",
        "\n",
        "def predataset_(preprocessed_paths, preprocessed_sentences, params):\n",
        "  \"\"\"\n",
        "  Pre-dataset - Create the np.arrays \n",
        "  \"\"\"\n",
        "  print('pre dataset creating ..')\n",
        "  # dim == (#sentences, set)\n",
        "  preprocessed_paths = np.array(preprocessed_paths)\n",
        "  # dim == (#sentences, #numwordspersentence)\n",
        "  if len(params.sets) > 2:\n",
        "    padded_sentences = np.concatenate([preprocessed_sentences[0],\n",
        "                                       preprocessed_sentences[1],\n",
        "                                       preprocessed_sentences[2]])\n",
        "  else:\n",
        "    padded_sentences = np.concatenate([preprocessed_sentences[0],\n",
        "                                       preprocessed_sentences[1]])    \n",
        "\n",
        "\n",
        "  return [preprocessed_paths, padded_sentences] \n",
        "\n",
        "def count_frames(path, folder='jpg'):\n",
        "    frames_counter = []\n",
        "    for (dirpath, dirnames, filenames) in os.walk(path):\n",
        "        if dirpath.split('/')[-1] == folder:\n",
        "            frames_counter.append(len(os.listdir(dirpath)))\n",
        "    return frames_counter  \n",
        "\n",
        "#@title Generators and datasets\n",
        "class GeneratorSLT(object):\n",
        "    def __init__(self, paths_sentences, padded_sentences, params):\n",
        "        'Initialization'\n",
        "        self.dim = params.inputShape\n",
        "        self.pad = params.pad\n",
        "        self.vocab_size = params.vocab_size\n",
        "        self.subsampling = params.subsampling\n",
        "        self.list_IDs = np.random.permutation(paths_sentences)\n",
        "        self.paths_sentences = paths_sentences\n",
        "        self.padded_sentences = padded_sentences\n",
        "        #self.type = params.type\n",
        "        self.max_len = params.maxframes\n",
        "        self.method = params.method\n",
        "        #self.idx = 0\n",
        "\n",
        "    def read_images_and_process(self, path_video):\n",
        "        # select path list to read first\n",
        "        frames = sorted(os.listdir(os.path.join(path_video, 'flow')))\n",
        "        # selecting paths\n",
        "        frames_sampled = self.video_proccesing(frames) \n",
        "        # read selecting frames\n",
        "        video = []\n",
        "        for frame in sorted(frames_sampled):\n",
        "            if frame == 'blanck':\n",
        "                total_frame = np.zeros((self.dim[1],self.dim[2],self.dim[3]))\n",
        "            else:\n",
        "                if self.method == 'concat':\n",
        "                    frame_dense_pose = imageio.imread(os.path.join(path_video, 'DensePose', frame.replace('.ppm','.png')))\n",
        "                    frame_rgb = imageio.imread(os.path.join(path_video, 'png', frame.replace('.ppm','.png'))) \n",
        "                    frame_flow = imageio.imread(os.path.join(path_video, 'flow', frame))\n",
        "                    total_frame = np.concatenate([frame_rgb,frame_flow,frame_dense_pose], axis=-1)\n",
        "                    total_frame = resize(total_frame/255.,(self.dim[1],self.dim[2]))\n",
        "                elif self.method in ['flow', 'FlowNet2png']:\n",
        "                    if self.method == 'FlowNet2png':\n",
        "                        frame_flow = imageio.imread(os.path.join(path_video, self.method, frame.replace('.ppm','.png')))\n",
        "                    else:    \n",
        "                        frame_flow = imageio.imread(os.path.join(path_video, self.method, frame))\n",
        "                    total_frame = resize(frame_flow/255.,(self.dim[1],self.dim[2]))   \n",
        "                elif self.method == 'RGB':\n",
        "                    frame_rgb = imageio.imread(os.path.join(path_video, 'png', frame.replace('.ppm','.png'))) \n",
        "                    total_frame = resize(frame_rgb/255.,(self.dim[1],self.dim[2]))                       \n",
        "                elif self.method == 'merge':\n",
        "                    frame_dense_pose = imageio.imread(os.path.join(path_video, 'DensePose', frame.replace('.ppm','.png')))\n",
        "                    frame_rgb = imageio.imread(os.path.join(path_video, 'png', frame.replace('.ppm','.png'))) \n",
        "                    frame_flow = imageio.imread(os.path.join(path_video, 'flow', frame))\n",
        "                    total_frame = np.add.reduce([frame_rgb,frame_flow,frame_dense_pose])\n",
        "                    total_frame = resize(total_frame/np.max(total_frame),(self.dim[1],self.dim[2]))\n",
        "            video.append(total_frame)\n",
        "        \n",
        "        return np.array(video) \n",
        "    \n",
        "    def video_padding(self, frames):\n",
        "        \n",
        "        if self.pad == 'zeros':\n",
        "            for _ in range(self.dim[0]-len(frames)):\n",
        "                path_pivot = 'blanck'\n",
        "                frames.append(path_pivot)\n",
        "        \n",
        "        elif self.pad == 'copy_final_frame':\n",
        "            last_frame = frames[-1]\n",
        "            for _ in range(self.dim[0]-len(frames)): \n",
        "                frames.append(last_frame)\n",
        "        \n",
        "        return frames     \n",
        "\n",
        "    def video_subsampling(self, frames, value=128):\n",
        "        if self.subsampling == 'volume':  \n",
        "            flag = True\n",
        "            while flag:\n",
        "                len_sign = len(frames)\n",
        "                dif =  len_sign - int(value)\n",
        "                if dif != 0:\n",
        "                    step = int(np.ceil(len_sign/dif))\n",
        "                    sub = [i for ind, i in enumerate(frames) if ind%step!=0]\n",
        "                    frames = sub\n",
        "                    if len(frames) == value:\n",
        "                        flag = False\n",
        "                else:\n",
        "                    flag = False\n",
        "        elif self.subsampling == 'first':             \n",
        "            frames = frames[:value]\n",
        "\n",
        "        return frames        \n",
        "\n",
        "    def video_proccesing(self, frames):\n",
        "        if self.dim[0]-len(frames) > 0:\n",
        "            frames = self.video_padding(frames) \n",
        "        else:\n",
        "            frames = self.video_subsampling(frames, self.dim[0])\n",
        "        return frames \n",
        "\n",
        "    def get_next_triplet(self):\n",
        "        for idx in range(len(self.list_IDs)):\n",
        "            path_video = os.path.join(self.list_IDs[idx])\n",
        "            path_open = os.path.join(path_video, 'OpenPose')\n",
        "            openpose = distances_openpose(path_open, self.max_len)\n",
        "            index = np.argwhere(self.paths_sentences==self.list_IDs[idx])[0]\n",
        "            padded_sentence = self.padded_sentences[index,:-1]\n",
        "            target = self.padded_sentences[index,1:]                \n",
        "            #target = tf.keras.utils.to_categorical(padded_sentence[index,1:], num_classes=self.vocab_size)\n",
        "            video = self.read_images_and_process(path_video)\n",
        "             \n",
        "            yield {\"encoder_input\":video, \n",
        "                   \"encoder_input_2\":openpose.T, \n",
        "                   \"decoder_input\":np.squeeze(padded_sentence),\n",
        "                   \"path\":[path_video]}, np.squeeze(target)   \n",
        "\n",
        "         \n",
        "def flipping_horizontal(dict_inputs, target):\n",
        "    volume = dict_inputs[\"encoder_input\"]\n",
        "    sentence = dict_inputs[\"decoder_input\"]\n",
        "    openpose = dict_inputs[\"encoder_input_2\"]\n",
        "    path_video = dict_inputs[\"path\"]\n",
        "    return {\"encoder_input\":tf.reverse(volume, [2]), \n",
        "            \"encoder_input_2\":openpose, \n",
        "            \"decoder_input\":sentence,\n",
        "            \"path\":path_video}, target\n",
        "\n",
        "def build_datasets(pre_dataset, indexes, params, set_='train'):\n",
        "    \"\"\"\n",
        "    Make datasets from generator using tf.data API\n",
        "    \"\"\"\n",
        "    i = np.where(np.array(params.sets)==set_)[0][0]\n",
        "    if set_=='train':\n",
        "        # generators\n",
        "        generator_train = GeneratorSLT(paths_sentences=pre_dataset[0][:,0][indexes[i]], \n",
        "                                 padded_sentences=pre_dataset[1][indexes[i]],\n",
        "                                 params=params)\n",
        "        # datasets\n",
        "        dataset = tf.data.Dataset.from_generator(generator_train.get_next_triplet,\n",
        "                                                 output_types=({\"encoder_input\":tf.float64,\n",
        "                                                                \"encoder_input_2\":tf.float64,\n",
        "                                                                \"decoder_input\":tf.int32,\n",
        "                                                                \"path\":tf.string}, tf.int32), \n",
        "                                                 output_shapes=({\"encoder_input\": params.inputShape, \n",
        "                                                                 \"encoder_input_2\":[params.maxframes,params.kpoints],\n",
        "                                                                 \"decoder_input\":[params.ty-1],\n",
        "                                                                 \"path\":[1]}, [params.ty-1]))\n",
        "        generator = generator_train\n",
        "    elif set_=='dev':\n",
        "        # generators\n",
        "        generator_dev = GeneratorSLT(paths_sentences=pre_dataset[0][:,0][indexes[i]], \n",
        "                                 padded_sentences=pre_dataset[1][indexes[i]],\n",
        "                                 params=params)\n",
        "        # datasets\n",
        "        dataset = tf.data.Dataset.from_generator(generator_dev.get_next_triplet,\n",
        "                                                 output_types=({\"encoder_input\":tf.float64,\n",
        "                                                                \"encoder_input_2\":tf.float64,\n",
        "                                                                \"decoder_input\":tf.int32,\n",
        "                                                                \"path\":tf.string}, tf.int32), \n",
        "                                                 output_shapes=({\"encoder_input\": params.inputShape, \n",
        "                                                                 \"encoder_input_2\":[params.maxframes,params.kpoints],\n",
        "                                                                 \"decoder_input\":[params.ty-1],\n",
        "                                                                 \"path\":[1]}, [params.ty-1]))\n",
        "\n",
        "        generator = generator_dev\n",
        "    elif set_=='test':  \n",
        "        # generators\n",
        "        generator_test = GeneratorSLT(paths_sentences=pre_dataset[0][:,0][indexes[i]], \n",
        "                                 padded_sentences=pre_dataset[1][indexes[i]],\n",
        "                                 params=params)\n",
        "        # datasets\n",
        "        dataset = tf.data.Dataset.from_generator(generator_test.get_next_triplet,\n",
        "                                                 output_types=({\"encoder_input\":tf.float64,\n",
        "                                                                \"encoder_input_2\":tf.float64,\n",
        "                                                                \"decoder_input\":tf.int32,\n",
        "                                                                \"path\":tf.string}, tf.int32), \n",
        "                                                 output_shapes=({\"encoder_input\": params.inputShape, \n",
        "                                                                 \"encoder_input_2\":[params.maxframes,params.kpoints],\n",
        "                                                                 \"decoder_input\":[params.ty-1],\n",
        "                                                                 \"path\":[1]}, [params.ty-1]))\n",
        "\n",
        "        generator = generator_test\n",
        "    # augmentation\n",
        "    if set_ == 'train':\n",
        "      for aug in params.augmentation:\n",
        "        if aug == 'flip':\n",
        "            dataset = dataset.concatenate(dataset.map(flipping_horizontal,-1))\n",
        "            #dataset = dataset.map(flipping_horizontal,-1)\n",
        "    \n",
        "    if set_ == 'train':\n",
        "        dataset = dataset.cache().shuffle(200, reshuffle_each_iteration=True)\n",
        "        dataset = dataset.batch(params.batchSize)\n",
        "    else:\n",
        "        dataset = dataset.batch(1)\n",
        "    dataset = dataset.prefetch(tf.data.experimental.AUTOTUNE)\n",
        "    #dataset = dataset.repeat(params.epochs)\n",
        "        \n",
        "    return dataset, generator  "
      ],
      "execution_count": null,
      "outputs": []
    },
    {
      "cell_type": "markdown",
      "metadata": {
        "id": "cUxUZFh2CcBH"
      },
      "source": [
        "### Data processing functions"
      ]
    },
    {
      "cell_type": "code",
      "metadata": {
        "id": "H1b-YH5-CcBJ"
      },
      "source": [
        "def key_points_extract(OP_json):\n",
        "    with open(OP_json) as f:\n",
        "        data = json.load(f)\n",
        "        f.close()\n",
        "    list_pose = data['people'][0]['pose_keypoints_2d']\n",
        "    list_face = data['people'][0]['face_keypoints_2d']\n",
        "    list_hand_r = data['people'][0]['hand_right_keypoints_2d']\n",
        "    list_hand_l = data['people'][0]['hand_left_keypoints_2d']\n",
        "\n",
        "    total_points = list_pose + list_face + list_hand_r + list_hand_l \n",
        "\n",
        "    x_points = total_points[0::3] \n",
        "    y_points = total_points[1::3] \n",
        "    \n",
        "    # remove useless points\n",
        "    useless_points = [9,10,11,12,13,14,17,18,19,20,21,22,23,24,25]\n",
        "    x_points = [x_points[i] for i in range(len(x_points)) if i not in set(useless_points)] \n",
        "    y_points = [y_points[i] for i in range(len(y_points)) if i not in set(useless_points)] \n",
        "    #print(x_points.shape)\n",
        "    return x_points, y_points\n",
        "\n",
        "def key_points_video_extract(OP_json_path):\n",
        "    list_x = list()\n",
        "    list_y = list()\n",
        "    for json_name in os.listdir(OP_json_path):\n",
        "        json_path = os.path.join(OP_json_path, json_name)\n",
        "        x, y = key_points_extract(json_path)\n",
        "        list_x.append(x)\n",
        "        list_y.append(y)\n",
        "    return np.stack([list_x, list_y], axis=-1)  \n",
        "\n",
        "def fill_zero_values(matrix_points_video):\n",
        "    # interpolate zero values\n",
        "    x_df = pd.DataFrame(matrix_points_video[0,:,:])\n",
        "    y_df = pd.DataFrame(matrix_points_video[1,:,:])  \n",
        "    x_df = x_df.replace(to_replace=0, value=np.nan).interpolate(limit_direction='both', axis=1).fillna(value=0)\n",
        "    y_df = y_df.replace(to_replace=0, value=np.nan).interpolate(limit_direction='both', axis=1).fillna(value=0)\n",
        "    \n",
        "    return np.stack([x_df.values, y_df.values], axis=0)\n",
        "\n",
        "def moving_average(a, n=3):\n",
        "    ret = np.cumsum(a, dtype=float, axis=0)\n",
        "    ret[n:,:] = ret[n:,:] - ret[:-n,:]\n",
        "    return ret[n - 1:,:] / n\n",
        "\n",
        "def distances_to_neck_point(matrix_points_video):\n",
        "    times = matrix_points_video.shape[1]\n",
        "    neck_x = np.repeat(np.expand_dims(matrix_points_video[0,1,:], axis=0), times, axis=0)\n",
        "    neck_y = np.repeat(np.expand_dims(matrix_points_video[1,1,:], axis=0), times, axis=0)\n",
        "    origin = np.stack([neck_x,neck_y], axis=0)\n",
        "    \n",
        "    dst = np.sqrt(np.sum((matrix_points_video - origin)**2, axis=0))\n",
        "\n",
        "    return dst \n",
        "\n",
        "def distances_openpose(OP_json_path, max_len):\n",
        "    matrix_points_video = key_points_video_extract(OP_json_path)\n",
        "    matrix_points_video = matrix_points_video.T\n",
        "    matrix_points_video = fill_zero_values(matrix_points_video)\n",
        "    dst = distances_to_neck_point(matrix_points_video) \n",
        "    pad_value = max_len - dst.shape[1]\n",
        "    dst = np.pad(dst, ((0,0), (0,pad_value)), 'constant', constant_values=(0))\n",
        "    \n",
        "    return dst"
      ],
      "execution_count": null,
      "outputs": []
    },
    {
      "cell_type": "markdown",
      "metadata": {
        "id": "1p8zrqlQCcBV"
      },
      "source": [
        "### DATASET"
      ]
    },
    {
      "cell_type": "code",
      "metadata": {
        "colab": {
          "base_uri": "https://localhost:8080/",
          "height": 139
        },
        "id": "_OMc00h8CcBW",
        "outputId": "a673b2f7-e8e3-48f6-f854-635fa2960dd5"
      },
      "source": [
        "#@title text proccesing\n",
        "#---------------------------Prepare data for generators--------------------------#\n",
        "print('Preparing data ...')\n",
        "paths_translation = [args.data+'translations.'+partition for partition in args.sets]\n",
        "paths_videos = [args.data+'pathsigns.'+partition for partition in args.sets]\n",
        "# Processing sentences and paths\n",
        "preprocessed_sentences, vocab = preprocessing_sentences(paths_translation)\n",
        "preprocessed_paths = preprocessing_paths(paths_videos, path2videos=args.videos_path)\n",
        "# Build the pre-dataset to match the paths and sentences processed.\n",
        "pre_dataset = predataset_(preprocessed_paths, preprocessed_sentences, args)\n",
        "# Separate the training, dev and test indexes.\n",
        "indexes = [np.where(pre_dataset[0][:,1]==partition)[0] for partition in args.sets]"
      ],
      "execution_count": null,
      "outputs": [
        {
          "output_type": "stream",
          "text": [
            "Preparing data ...\n",
            "Reading training file ...\n",
            "training on train sentences to make the vocab ...\n",
            "training text to index sequences ..\n",
            "training index sequences to padded sequences ..\n",
            "Computing same steps over dev and test sequences\n",
            "pre dataset creating ..\n"
          ],
          "name": "stdout"
        }
      ]
    },
    {
      "cell_type": "code",
      "metadata": {
        "id": "yuOVRjoVCcBi"
      },
      "source": [
        "#print('Path {} - indexes sentence {}'.format(pre_dataset[0][0], pre_dataset[1][0]))"
      ],
      "execution_count": null,
      "outputs": []
    },
    {
      "cell_type": "markdown",
      "metadata": {
        "id": "GMnYR36FCcBt"
      },
      "source": [
        "#### build tf data datasets"
      ]
    },
    {
      "cell_type": "code",
      "metadata": {
        "id": "5RS1cbFuCcBu"
      },
      "source": [
        "datasets_train, generators_train = build_datasets(pre_dataset, indexes, args, set_='train')\n",
        "datasets_test, generators_test = build_datasets(pre_dataset, indexes, args, set_='test')"
      ],
      "execution_count": null,
      "outputs": []
    },
    {
      "cell_type": "code",
      "metadata": {
        "colab": {
          "base_uri": "https://localhost:8080/",
          "height": 799
        },
        "id": "la2PF2bmCcB7",
        "outputId": "96bde616-2d80-4761-d352-46cc0bded0c7"
      },
      "source": [
        "for x, y in datasets_train.take(1):\n",
        "    if args.inputShape[-1] == 9:\n",
        "        print('Folder path {}'.format(x['path']))\n",
        "        print('Dimensions:')\n",
        "        print(x['encoder_input'].shape,x['encoder_input_2'].shape, x['decoder_input'].shape,y.shape)\n",
        "        print('Sentence input: {}'.format(\" \".join([vocab.index_word[i] for i in x['decoder_input'].numpy()[0]])))\n",
        "        print('Sentence target: {}'.format(\" \".join([vocab.index_word[i] for i in y.numpy()[0]])))\n",
        "        slices = sorted(np.random.randint(1,args.inputShape[0],5))\n",
        "        fig, axis = plt.subplots(3,5, figsize=(15,10))\n",
        "        for r in range(axis.shape[0]):\n",
        "            for c in range(axis.shape[1]):\n",
        "                axis[r,c].imshow(x['encoder_input'][0,slices[c],:,:,r*3:(r*3)+3])\n",
        "                axis[r,c].set_axis_off()\n",
        "        plt.show() \n",
        "        fig2 = plt.figure(figsize=(15,5))\n",
        "        plt.plot(x['encoder_input_2'][0,:,:])\n",
        "        plt.show\n",
        "        fig3 = plt.figure()\n",
        "        plt.matshow(x['encoder_input_2'].numpy()[0,:,:].T)\n",
        "        plt.show\n",
        "        \n",
        "    elif args.inputShape[-1] == 3:\n",
        "        print('Folder path {}'.format(x['path']))\n",
        "        print('Dimensions:')\n",
        "        print(x['encoder_input'].shape,x['encoder_input_2'].shape, x['decoder_input'].shape,y.shape)\n",
        "        print('Sentence input: {}'.format(\" \".join([vocab.index_word[i] for i in x['decoder_input'].numpy()[0]])))\n",
        "        print('Sentence target: {}'.format(\" \".join([vocab.index_word[i] for i in y.numpy()[0]])))\n",
        "        slices = sorted(np.random.randint(1,args.inputShape[0],5))\n",
        "        fig, axis = plt.subplots(1,5, figsize=(15,5))\n",
        "        axis = axis.flatten()\n",
        "        for r in range(len(axis)):\n",
        "            axis[r].imshow(x['encoder_input'][0,slices[r],:,:,:])\n",
        "            axis[r].set_axis_off()\n",
        "        plt.show() \n",
        "        fig2 = plt.figure(figsize=(15,5))\n",
        "        plt.plot(x['encoder_input_2'][0,:,:])\n",
        "        plt.show\n",
        "        fig3 = plt.figure()\n",
        "        plt.matshow(x['encoder_input_2'].numpy()[0,:,:].T)\n",
        "        plt.show"
      ],
      "execution_count": null,
      "outputs": [
        {
          "output_type": "stream",
          "text": [
            "Folder path [[b'/data/Datasets/signlanguage/LSCD/frames/fullv2/Cn_007_3_09/']]\n",
            "Dimensions:\n",
            "(1, 112, 112, 112, 3) (1, 598, 122) (1, 13) (1, 13)\n",
            "Sentence input: <s> a juan le gusta el chocolate . </s> <pad> <pad> <pad> <pad>\n",
            "Sentence target: a juan le gusta el chocolate . </s> <pad> <pad> <pad> <pad> <pad>\n"
          ],
          "name": "stdout"
        },
        {
          "output_type": "display_data",
          "data": {
            "image/png": "[encoded data removed]",
            "text/plain": [
              "<Figure size 1080x360 with 5 Axes>"
            ]
          },
          "metadata": {
            "tags": [],
            "needs_background": "light"
          }
        },
        {
          "output_type": "display_data",
          "data": {
            "image/png": "[encoded data removed]",
            "text/plain": [
              "<Figure size 1080x360 with 1 Axes>"
            ]
          },
          "metadata": {
            "tags": [],
            "needs_background": "light"
          }
        },
        {
          "output_type": "display_data",
          "data": {
            "text/plain": [
              "<Figure size 432x288 with 0 Axes>"
            ]
          },
          "metadata": {
            "tags": []
          }
        },
        {
          "output_type": "display_data",
          "data": {
            "image/png": "[encoded data removed]",
            "text/plain": [
              "<Figure size 1152x235.023 with 1 Axes>"
            ]
          },
          "metadata": {
            "tags": [],
            "needs_background": "light"
          }
        }
      ]
    },
    {
      "cell_type": "markdown",
      "metadata": {
        "id": "o1SsrJt3CcCI"
      },
      "source": [
        "### Model translation"
      ]
    },
    {
      "cell_type": "markdown",
      "metadata": {
        "id": "CpbxDNelCcCL"
      },
      "source": [
        "#### Attention cnn filter module"
      ]
    },
    {
      "cell_type": "code",
      "metadata": {
        "cellView": "form",
        "id": "iGR7dYTXWhBH"
      },
      "source": [
        "class SelfAttentionFilter(tf.keras.layers.Layer):\n",
        "  def __init__(self, params, name='scaleDotSelfAttentionFilter'):\n",
        "    super(SelfAttentionFilter, self).__init__(name=name)\n",
        "    # layers\n",
        "    #self.params = params\n",
        "    self.wq = tf.keras.layers.Dense(units=params.selfUnits, activation='linear', use_bias=False, name='WqSelf3DcnnTAtt')\n",
        "    self.wk = tf.keras.layers.Dense(units=params.selfUnits, activation='linear', use_bias=False, name='WkSelf3DcnnTAtt')\n",
        "    \n",
        "  def call(self, volume):\n",
        "    b, t, h, w, f = volume.shape\n",
        "    volume = tf.keras.layers.Reshape((t, h*w, f))(volume)\n",
        "    volume_rt = tf.transpose(volume, perm=[0, 3, 1, 2])\n",
        "    query = self.wq(volume_rt)\n",
        "    keys = self.wk(volume_rt) \n",
        "\n",
        "    # scaled_attention.shape == (batch_size, t, units)\n",
        "    # attention_weights.shape == (batch_size, t, t)\n",
        "    matmul_qk = tf.matmul(query, keys, transpose_b=True)\n",
        "    # scale matmul_qk\n",
        "    dk = tf.cast(tf.shape(keys)[-1], tf.float32)\n",
        "    scaled_attention_logits =  tf.math.divide(matmul_qk, tf.math.sqrt(dk))\n",
        "    \n",
        "    # softmax is normalized on the last axis (seq_len_k) so that the scores\n",
        "    # add up to 1.\n",
        "    attention_weights = tf.nn.softmax(scaled_attention_logits, axis=-1) \n",
        "\n",
        "    #context_volume = tf.matmul(attention_weights, volume_rt)\n",
        "    repeat_volume = tf.tile(volume_rt, [1,1,1,t])\n",
        "    \n",
        "    volume_rt_reshape = tf.keras.layers.Reshape((f,t,t,h*w))(repeat_volume)\n",
        "    \n",
        "    context_volume = tf.reduce_sum(\n",
        "                            tf.multiply(\n",
        "                                volume_rt_reshape,\n",
        "                                tf.expand_dims(attention_weights, axis=-1), \n",
        "                            ),\n",
        "                        axis=-2)\n",
        "    \n",
        "    context_volume = tf.transpose(context_volume, perm=[0, 2, 3, 1])\n",
        "    context_volume = tf.keras.layers.Reshape((t, h, w, f))(context_volume)\n",
        "    \n",
        "    return context_volume, attention_weights\n",
        "\n",
        "  def model(self):\n",
        "    inputs = tf.keras.Input((56,56,56,64), batch_size = 1)\n",
        "    return tf.keras.Model(inputs=inputs, outputs=self.call(inputs), name=self.name)  \n"
      ],
      "execution_count": null,
      "outputs": []
    },
    {
      "cell_type": "code",
      "metadata": {
        "id": "Vn7S72bTCcCb"
      },
      "source": [
        "cnnAttention = SelfAttentionFilter(args)"
      ],
      "execution_count": null,
      "outputs": []
    },
    {
      "cell_type": "code",
      "metadata": {
        "colab": {
          "base_uri": "https://localhost:8080/",
          "height": 868
        },
        "id": "rvgOQBXBCcCn",
        "outputId": "1da3dd08-88d7-4685-8275-460cc40a81df"
      },
      "source": [
        "cnnAttention.model().summary()"
      ],
      "execution_count": null,
      "outputs": [
        {
          "output_type": "stream",
          "text": [
            "Model: \"scaleDotSelfAttentionFilter\"\n",
            "__________________________________________________________________________________________________\n",
            "Layer (type)                    Output Shape         Param #     Connected to                     \n",
            "==================================================================================================\n",
            "input_1 (InputLayer)            [(1, 56, 56, 56, 64) 0                                            \n",
            "__________________________________________________________________________________________________\n",
            "reshape (Reshape)               (1, 56, 3136, 64)    0           input_1[0][0]                    \n",
            "__________________________________________________________________________________________________\n",
            "tf_op_layer_Transpose (TensorFl [(1, 64, 56, 3136)]  0           reshape[0][0]                    \n",
            "__________________________________________________________________________________________________\n",
            "WkSelf3DcnnTAtt (Dense)         (1, 64, 56, 64)      200704      tf_op_layer_Transpose[0][0]      \n",
            "__________________________________________________________________________________________________\n",
            "tf_op_layer_Shape (TensorFlowOp [(4,)]               0           WkSelf3DcnnTAtt[0][0]            \n",
            "__________________________________________________________________________________________________\n",
            "tf_op_layer_strided_slice (Tens [()]                 0           tf_op_layer_Shape[0][0]          \n",
            "__________________________________________________________________________________________________\n",
            "WqSelf3DcnnTAtt (Dense)         (1, 64, 56, 64)      200704      tf_op_layer_Transpose[0][0]      \n",
            "__________________________________________________________________________________________________\n",
            "tf_op_layer_Cast (TensorFlowOpL [()]                 0           tf_op_layer_strided_slice[0][0]  \n",
            "__________________________________________________________________________________________________\n",
            "tf_op_layer_BatchMatMulV2 (Tens [(1, 64, 56, 56)]    0           WqSelf3DcnnTAtt[0][0]            \n",
            "                                                                 WkSelf3DcnnTAtt[0][0]            \n",
            "__________________________________________________________________________________________________\n",
            "tf_op_layer_Sqrt (TensorFlowOpL [()]                 0           tf_op_layer_Cast[0][0]           \n",
            "__________________________________________________________________________________________________\n",
            "tf_op_layer_RealDiv (TensorFlow [(1, 64, 56, 56)]    0           tf_op_layer_BatchMatMulV2[0][0]  \n",
            "                                                                 tf_op_layer_Sqrt[0][0]           \n",
            "__________________________________________________________________________________________________\n",
            "tf_op_layer_Tile (TensorFlowOpL [(1, 64, 56, 175616) 0           tf_op_layer_Transpose[0][0]      \n",
            "__________________________________________________________________________________________________\n",
            "tf_op_layer_Softmax (TensorFlow [(1, 64, 56, 56)]    0           tf_op_layer_RealDiv[0][0]        \n",
            "__________________________________________________________________________________________________\n",
            "reshape_1 (Reshape)             (1, 64, 56, 56, 3136 0           tf_op_layer_Tile[0][0]           \n",
            "__________________________________________________________________________________________________\n",
            "tf_op_layer_ExpandDims (TensorF [(1, 64, 56, 56, 1)] 0           tf_op_layer_Softmax[0][0]        \n",
            "__________________________________________________________________________________________________\n",
            "tf_op_layer_Mul (TensorFlowOpLa [(1, 64, 56, 56, 313 0           reshape_1[0][0]                  \n",
            "                                                                 tf_op_layer_ExpandDims[0][0]     \n",
            "__________________________________________________________________________________________________\n",
            "tf_op_layer_Sum (TensorFlowOpLa [(1, 64, 56, 3136)]  0           tf_op_layer_Mul[0][0]            \n",
            "__________________________________________________________________________________________________\n",
            "tf_op_layer_Transpose_1 (Tensor [(1, 56, 3136, 64)]  0           tf_op_layer_Sum[0][0]            \n",
            "__________________________________________________________________________________________________\n",
            "reshape_2 (Reshape)             (1, 56, 56, 56, 64)  0           tf_op_layer_Transpose_1[0][0]    \n",
            "==================================================================================================\n",
            "Total params: 401,408\n",
            "Trainable params: 401,408\n",
            "Non-trainable params: 0\n",
            "__________________________________________________________________________________________________\n"
          ],
          "name": "stdout"
        }
      ]
    },
    {
      "cell_type": "markdown",
      "metadata": {
        "id": "1853i7nLCcC0"
      },
      "source": [
        "#### Reduce features (Inception fashion)"
      ]
    },
    {
      "cell_type": "code",
      "metadata": {
        "id": "HaQnUqF8CcC1"
      },
      "source": [
        "class Reducer(tf.keras.layers.Layer):\n",
        "    def __init__(self, params, name='Reducer'):\n",
        "        super(Reducer, self).__init__(name=name)\n",
        "        # layers\n",
        "        self.cnn1 = tf.keras.layers.Conv3D(filters=1, kernel_size=3, padding=\"same\", activation=\"relu\",\n",
        "                              name='conv3d_3x3')\n",
        "        self.cnn2 = tf.keras.layers.Conv3D(filters=1, kernel_size=5, padding=\"same\", activation=\"relu\",\n",
        "                              name='conv3d_5x5')\n",
        "        self.cnn3 = tf.keras.layers.Conv3D(filters=1, kernel_size=7, padding=\"same\", activation=\"relu\",\n",
        "                              name='conv3d_7x7')\n",
        "        self.concat = tf.keras.layers.Concatenate(axis=-1, name=\"concat_features\")\n",
        "        self.cnn4 = tf.keras.layers.Conv3D(filters=1, kernel_size=1, padding=\"same\", activation=\"relu\",\n",
        "                              name='conv3d_1x1')\n",
        "        self.reshape = tf.keras.layers.Reshape(target_shape=[28,28*28], name='reshape')\n",
        "        self.dense = tf.keras.layers.Dense(params.denseUnits, name='dense_512')\n",
        "    \n",
        "    def call(self, volume):\n",
        "        x1 = self.cnn1(volume)\n",
        "        x2 = self.cnn2(volume)\n",
        "        x3 = self.cnn3(volume)\n",
        "        x = self.concat([x1,x2,x3])\n",
        "        x = self.cnn4(x)\n",
        "        x = self.reshape(x)\n",
        "        x = self.dense(x)\n",
        "    \n",
        "        return x\n",
        "\n",
        "    def model(self):\n",
        "        inputs = tf.keras.Input((28, 28, 28, 64), batch_size = 1)\n",
        "        return tf.keras.Model(inputs=inputs, outputs=self.call(inputs), name=self.name)  "
      ],
      "execution_count": null,
      "outputs": []
    },
    {
      "cell_type": "code",
      "metadata": {
        "colab": {
          "base_uri": "https://localhost:8080/",
          "height": 469
        },
        "id": "bf76gRX7CcC-",
        "outputId": "75656045-a764-46f9-f10f-b4acf98d21cc"
      },
      "source": [
        "reducer = Reducer(args)\n",
        "reducer.model().summary()"
      ],
      "execution_count": null,
      "outputs": [
        {
          "output_type": "stream",
          "text": [
            "Model: \"Reducer\"\n",
            "__________________________________________________________________________________________________\n",
            "Layer (type)                    Output Shape         Param #     Connected to                     \n",
            "==================================================================================================\n",
            "input_2 (InputLayer)            [(1, 28, 28, 28, 64) 0                                            \n",
            "__________________________________________________________________________________________________\n",
            "conv3d_3x3 (Conv3D)             (1, 28, 28, 28, 1)   1729        input_2[0][0]                    \n",
            "__________________________________________________________________________________________________\n",
            "conv3d_5x5 (Conv3D)             (1, 28, 28, 28, 1)   8001        input_2[0][0]                    \n",
            "__________________________________________________________________________________________________\n",
            "conv3d_7x7 (Conv3D)             (1, 28, 28, 28, 1)   21953       input_2[0][0]                    \n",
            "__________________________________________________________________________________________________\n",
            "concat_features (Concatenate)   (1, 28, 28, 28, 3)   0           conv3d_3x3[0][0]                 \n",
            "                                                                 conv3d_5x5[0][0]                 \n",
            "                                                                 conv3d_7x7[0][0]                 \n",
            "__________________________________________________________________________________________________\n",
            "conv3d_1x1 (Conv3D)             (1, 28, 28, 28, 1)   4           concat_features[0][0]            \n",
            "__________________________________________________________________________________________________\n",
            "reshape (Reshape)               (1, 28, 784)         0           conv3d_1x1[0][0]                 \n",
            "__________________________________________________________________________________________________\n",
            "dense_512 (Dense)               (1, 28, 512)         401920      reshape[0][0]                    \n",
            "==================================================================================================\n",
            "Total params: 433,607\n",
            "Trainable params: 433,607\n",
            "Non-trainable params: 0\n",
            "__________________________________________________________________________________________________\n"
          ],
          "name": "stdout"
        }
      ]
    },
    {
      "cell_type": "markdown",
      "metadata": {
        "id": "5TqlReDaCcDI"
      },
      "source": [
        "### Encoder - Decoder model"
      ]
    },
    {
      "cell_type": "code",
      "metadata": {
        "colab": {
          "base_uri": "https://localhost:8080/",
          "height": 34
        },
        "id": "mizQH4QiCcDL",
        "outputId": "9cb7b410-68e3-47fd-a55d-97fcf77fdb18"
      },
      "source": [
        "def reset_tf_keras():\n",
        "    import gc\n",
        "    # Reset Keras Session\n",
        "    tf.keras.backend.clear_session()\n",
        "    print(gc.collect())\n",
        "reset_tf_keras()    "
      ],
      "execution_count": null,
      "outputs": [
        {
          "output_type": "stream",
          "text": [
            "0\n"
          ],
          "name": "stdout"
        }
      ]
    },
    {
      "cell_type": "markdown",
      "metadata": {
        "id": "JpJHC3jRCcDa"
      },
      "source": [
        "#### Encoder network"
      ]
    },
    {
      "cell_type": "code",
      "metadata": {
        "cellView": "form",
        "id": "V2aUw3uo-A-Q"
      },
      "source": [
        "#@title LTC Network for feature extractor\n",
        "class EncoderNetwork(tf.keras.Model):\n",
        "  def __init__(self, params, name='EncoderNetwork'):\n",
        "    super(EncoderNetwork, self).__init__(name=name)\n",
        "    # params\n",
        "    self.params = params\n",
        "    # architectur for openpose stream\n",
        "    self.masker = tf.keras.layers.Masking(0.0)\n",
        "    self.reducer = Reducer(params, name='reducer_512')\n",
        "    self.rnn1 = tf.keras.layers.GRU(params.rnnUnits)\n",
        "    # architecture for flow or RGB stream \n",
        "    # Block 1 ##################################################################\n",
        "    self.conv1 = tf.keras.layers.Conv3D(filters=64, \n",
        "                                        kernel_size=3, \n",
        "                                        strides=(2,2,2), \n",
        "                                        padding=\"same\", \n",
        "                                        activation=\"linear\", \n",
        "                                        data_format='channels_last',\n",
        "                                        kernel_regularizer=tf.keras.regularizers.l2(params.weight_decay),\n",
        "                                        name='conv1a')\n",
        "    self.bn1 = tf.keras.layers.BatchNormalization(axis=4, scale=False, name='bn1a')\n",
        "    self.act1 = tf.keras.layers.Activation('relu', name='relu1a')\n",
        "    self.max1 = tf.keras.layers.MaxPooling3D(pool_size=(2,2,2),\n",
        "                                             strides=(2,2,2), \n",
        "                                             name='pool1a', \n",
        "                                             data_format='channels_last')\n",
        "    self.cnnself1 = SelfAttentionFilter(params,name='selfattention1a')\n",
        "    # Block 2 ##################################################################\n",
        "    self.conv2 = tf.keras.layers.Conv3D(filters=128, \n",
        "                        kernel_size=(3,3,3), \n",
        "                        strides=(1,1,1), \n",
        "                        kernel_regularizer=tf.keras.regularizers.l2(params.weight_decay),\n",
        "                        data_format='channels_last', \n",
        "                        padding=\"same\",\n",
        "                        name='conv2a')\n",
        "    self.bn2 = tf.keras.layers.BatchNormalization(axis=4, scale=False, name='bn2a')\n",
        "    self.act2 = tf.keras.layers.Activation('relu', name='relu2a')\n",
        "    self.max2 = tf.keras.layers.MaxPooling3D(pool_size=(2,2,2),\n",
        "                                             strides=(2,2,2), \n",
        "                                             name='pool2a',\n",
        "                                             data_format='channels_last')\n",
        "    self.cnnself2 = SelfAttentionFilter(params,name='selfattention2a')\n",
        "    # Block 3 ##################################################################\n",
        "    self.conv3 = tf.keras.layers.Conv3D(filters=256, \n",
        "                        kernel_size=(3,3,3), \n",
        "                        strides=(1,1,1), \n",
        "                        kernel_regularizer=tf.keras.regularizers.l2(params.weight_decay),\n",
        "                        data_format='channels_last', \n",
        "                        padding=\"same\",\n",
        "                        name='conv3a')\n",
        "    self.bn3 = tf.keras.layers.BatchNormalization(axis=4, scale=False, name='bn3a') \n",
        "    self.act3 = tf.keras.layers.Activation('relu', name='relu3a')\n",
        "    self.max3 = tf.keras.layers.MaxPooling3D(pool_size=(2,2,2),\n",
        "                                             strides=(2,2,2), \n",
        "                                             name='pool3a',\n",
        "                                             data_format='channels_last')  \n",
        "    self.cnnself3 = SelfAttentionFilter(params,name='selfattention3a') \n",
        "    # Block 4 ##################################################################\n",
        "    self.conv4 = tf.keras.layers.Conv3D(filters=256, \n",
        "                        kernel_size=(3,3,3), \n",
        "                        strides=(1,1,1), \n",
        "                        kernel_regularizer=tf.keras.regularizers.l2(params.weight_decay),\n",
        "                        data_format='channels_last', \n",
        "                        padding=\"same\",\n",
        "                        name='conv3b')\n",
        "    self.bn4 = tf.keras.layers.BatchNormalization(axis=4, scale=False, name='bn3b')\n",
        "    self.act4 = tf.keras.layers.Activation('relu', name='relu3b')\n",
        "    self.max4 = tf.keras.layers.MaxPooling3D(pool_size=(2,2,2),\n",
        "                                             strides=(2,2,2), \n",
        "                                             name='pool3b',\n",
        "                                             data_format='channels_last') \n",
        "    self.cnnself4 = SelfAttentionFilter(params,name='selfattention3b') \n",
        "    # Block 5 ##################################################################\n",
        "    self.conv5 = tf.keras.layers.Conv3D(filters=512, \n",
        "                        kernel_size=(3,3,3), \n",
        "                        strides=(1,1,1), \n",
        "                        kernel_regularizer=tf.keras.regularizers.l2(params.weight_decay),\n",
        "                        data_format='channels_last', \n",
        "                        padding=\"same\",\n",
        "                        name='conv4a')\n",
        "    self.bn5 = tf.keras.layers.BatchNormalization(axis=4, scale=False, name='bn4a')\n",
        "    self.act5 = tf.keras.layers.Activation('relu', name='relu4a')\n",
        "    self.max5 = tf.keras.layers.MaxPooling3D(pool_size=(2,2,2),\n",
        "                                             strides=(2,2,2), \n",
        "                                             name='pool4a',\n",
        "                                             data_format='channels_last')     \n",
        "    \n",
        "    \n",
        "    self.reshape = tf.keras.layers.Flatten()\n",
        "    self.concat = tf.keras.layers.Concatenate(axis=-1)                                       \n",
        "    self.dense = tf.keras.layers.Dense(params.denseUnits, name='dense_encoder')\n",
        "    self.dropout = tf.keras.layers.Dropout(params.dropout, name='dropout_final')\n",
        "\n",
        "        \n",
        "  def call(self, input1, input2):\n",
        "    x1 = self.conv1(input1)\n",
        "    x1 = self.bn1(x1)\n",
        "    x1 = self.act1(x1)   \n",
        "    x1 = self.max1(x1)\n",
        "    x1, _ = self.cnnself1(x1)\n",
        "    features = self.reducer(x1)\n",
        "    x1 = self.conv2(x1)\n",
        "    x1 = self.bn2(x1)\n",
        "    x1 = self.act2(x1)\n",
        "    x1 = self.max2(x1)\n",
        "    x1, _ = self.cnnself2(x1)\n",
        "    x1 = self.conv3(x1)\n",
        "    x1 = self.bn3(x1)\n",
        "    x1 = self.act3(x1)\n",
        "    x1 = self.max3(x1)\n",
        "    x1, _ = self.cnnself3(x1)\n",
        "    x1 = self.conv4(x1)\n",
        "    x1 = self.bn4(x1)\n",
        "    x1 = self.act4(x1)\n",
        "    x1 = self.max4(x1)\n",
        "    x1, _ = self.cnnself4(x1)\n",
        "    x1 = self.conv5(x1)\n",
        "    x1 = self.bn5(x1)\n",
        "    x1 = self.act5(x1)\n",
        "    x1 = self.max5(x1) \n",
        "    x1 = self.reshape(x1)                                       \n",
        "    # processing open pose                                        \n",
        "    x2 = self.masker(input2)\n",
        "    x2 = self.rnn1(x2)                                        \n",
        "    # concat embeddings\n",
        "    x = self.concat([x1,x2])\n",
        "    x = self.dense(x)                                       \n",
        "    x = self.dropout(x)\n",
        "\n",
        "    return x, features \n",
        "\n",
        "  def model(self):\n",
        "      input1 = tf.keras.Input((self.params.inputShape), batch_size = 1)\n",
        "      input2 = tf.keras.Input((self.params.maxframes,self.params.kpoints), batch_size = 1)\n",
        "      return tf.keras.Model(inputs=[input1,input2], outputs=self.call(input1, input2), name=self.name)"
      ],
      "execution_count": null,
      "outputs": []
    },
    {
      "cell_type": "code",
      "metadata": {
        "id": "apVVT_D1CcDn"
      },
      "source": [
        "encoder = EncoderNetwork(args)"
      ],
      "execution_count": null,
      "outputs": []
    },
    {
      "cell_type": "code",
      "metadata": {
        "colab": {
          "base_uri": "https://localhost:8080/",
          "height": 1000
        },
        "id": "Gt3bZU5UCcDx",
        "outputId": "be3db2a9-1793-4527-b852-9eab4d45a2a0"
      },
      "source": [
        "encoder.model().summary()"
      ],
      "execution_count": null,
      "outputs": [
        {
          "output_type": "stream",
          "text": [
            "Model: \"EncoderNetwork\"\n",
            "__________________________________________________________________________________________________\n",
            "Layer (type)                    Output Shape         Param #     Connected to                     \n",
            "==================================================================================================\n",
            "input_1 (InputLayer)            [(1, 112, 112, 112,  0                                            \n",
            "__________________________________________________________________________________________________\n",
            "conv1a (Conv3D)                 (1, 56, 56, 56, 64)  5248        input_1[0][0]                    \n",
            "__________________________________________________________________________________________________\n",
            "bn1a (BatchNormalization)       (1, 56, 56, 56, 64)  192         conv1a[0][0]                     \n",
            "__________________________________________________________________________________________________\n",
            "relu1a (Activation)             (1, 56, 56, 56, 64)  0           bn1a[0][0]                       \n",
            "__________________________________________________________________________________________________\n",
            "pool1a (MaxPooling3D)           (1, 28, 28, 28, 64)  0           relu1a[0][0]                     \n",
            "__________________________________________________________________________________________________\n",
            "selfattention1a (SelfAttentionF ((1, 28, 28, 28, 64) 100352      pool1a[0][0]                     \n",
            "__________________________________________________________________________________________________\n",
            "conv2a (Conv3D)                 (1, 28, 28, 28, 128) 221312      selfattention1a[0][0]            \n",
            "__________________________________________________________________________________________________\n",
            "bn2a (BatchNormalization)       (1, 28, 28, 28, 128) 384         conv2a[0][0]                     \n",
            "__________________________________________________________________________________________________\n",
            "relu2a (Activation)             (1, 28, 28, 28, 128) 0           bn2a[0][0]                       \n",
            "__________________________________________________________________________________________________\n",
            "pool2a (MaxPooling3D)           (1, 14, 14, 14, 128) 0           relu2a[0][0]                     \n",
            "__________________________________________________________________________________________________\n",
            "selfattention2a (SelfAttentionF ((1, 14, 14, 14, 128 25088       pool2a[0][0]                     \n",
            "__________________________________________________________________________________________________\n",
            "conv3a (Conv3D)                 (1, 14, 14, 14, 256) 884992      selfattention2a[0][0]            \n",
            "__________________________________________________________________________________________________\n",
            "bn3a (BatchNormalization)       (1, 14, 14, 14, 256) 768         conv3a[0][0]                     \n",
            "__________________________________________________________________________________________________\n",
            "relu3a (Activation)             (1, 14, 14, 14, 256) 0           bn3a[0][0]                       \n",
            "__________________________________________________________________________________________________\n",
            "pool3a (MaxPooling3D)           (1, 7, 7, 7, 256)    0           relu3a[0][0]                     \n",
            "__________________________________________________________________________________________________\n",
            "selfattention3a (SelfAttentionF ((1, 7, 7, 7, 256),  6272        pool3a[0][0]                     \n",
            "__________________________________________________________________________________________________\n",
            "conv3b (Conv3D)                 (1, 7, 7, 7, 256)    1769728     selfattention3a[0][0]            \n",
            "__________________________________________________________________________________________________\n",
            "bn3b (BatchNormalization)       (1, 7, 7, 7, 256)    768         conv3b[0][0]                     \n",
            "__________________________________________________________________________________________________\n",
            "relu3b (Activation)             (1, 7, 7, 7, 256)    0           bn3b[0][0]                       \n",
            "__________________________________________________________________________________________________\n",
            "pool3b (MaxPooling3D)           (1, 3, 3, 3, 256)    0           relu3b[0][0]                     \n",
            "__________________________________________________________________________________________________\n",
            "selfattention3b (SelfAttentionF ((1, 3, 3, 3, 256),  1152        pool3b[0][0]                     \n",
            "__________________________________________________________________________________________________\n",
            "conv4a (Conv3D)                 (1, 3, 3, 3, 512)    3539456     selfattention3b[0][0]            \n",
            "__________________________________________________________________________________________________\n",
            "bn4a (BatchNormalization)       (1, 3, 3, 3, 512)    1536        conv4a[0][0]                     \n",
            "__________________________________________________________________________________________________\n",
            "relu4a (Activation)             (1, 3, 3, 3, 512)    0           bn4a[0][0]                       \n",
            "__________________________________________________________________________________________________\n",
            "input_2 (InputLayer)            [(1, 598, 122)]      0                                            \n",
            "__________________________________________________________________________________________________\n",
            "pool4a (MaxPooling3D)           (1, 1, 1, 1, 512)    0           relu4a[0][0]                     \n",
            "__________________________________________________________________________________________________\n",
            "masking (Masking)               (1, 598, 122)        0           input_2[0][0]                    \n",
            "__________________________________________________________________________________________________\n",
            "flatten (Flatten)               (1, 512)             0           pool4a[0][0]                     \n",
            "__________________________________________________________________________________________________\n",
            "gru (GRU)                       (1, 512)             976896      masking[0][0]                    \n",
            "__________________________________________________________________________________________________\n",
            "concatenate (Concatenate)       (1, 1024)            0           flatten[0][0]                    \n",
            "                                                                 gru[0][0]                        \n",
            "__________________________________________________________________________________________________\n",
            "dense_encoder (Dense)           (1, 512)             524800      concatenate[0][0]                \n",
            "__________________________________________________________________________________________________\n",
            "dropout_final (Dropout)         (1, 512)             0           dense_encoder[0][0]              \n",
            "__________________________________________________________________________________________________\n",
            "reducer_512 (Reducer)           (1, 28, 512)         433607      selfattention1a[0][0]            \n",
            "==================================================================================================\n",
            "Total params: 8,492,551\n",
            "Trainable params: 8,490,119\n",
            "Non-trainable params: 2,432\n",
            "__________________________________________________________________________________________________\n"
          ],
          "name": "stdout"
        }
      ]
    },
    {
      "cell_type": "markdown",
      "metadata": {
        "id": "qjwrS0nzCcD_"
      },
      "source": [
        "#### Load pre-trained weights"
      ]
    },
    {
      "cell_type": "code",
      "metadata": {
        "id": "hLMGLBVLCcEB"
      },
      "source": [
        "# path to pretrained models with no top (no classification layer)\n",
        "WEIGHTS_PATH_NO_TOP = {\n",
        "    'ucf1_rgb100_fromC3D_71' : 'https://lsh.paris.inria.fr/LTC/ucf1_rgb100_fromC3D_71.t7',\n",
        "    'ucf3_rgb100_fromC3D_71' : 'https://lsh.paris.inria.fr/LTC/ucf3_rgb100_fromC3D_71.t7',\n",
        "    'ucf2_rgb100_fromC3D_71' : 'https://lsh.paris.inria.fr/LTC/ucf2_rgb100_fromC3D_71.t7'}"
      ],
      "execution_count": null,
      "outputs": []
    },
    {
      "cell_type": "code",
      "metadata": {
        "id": "0Z2rt6atCcET"
      },
      "source": [
        "def load_weights(model, pre_trained_model):\n",
        "    from collections import defaultdict\n",
        "    weights_pretrained = defaultdict(list)\n",
        "    for layer_index in range(len(pre_trained_model)): \n",
        "        if  pre_trained_model[layer_index].name != None:\n",
        "            layer_name = pre_trained_model[layer_index].name.decode(\"utf-8\")\n",
        "            if 'conv' == str(layer_name[:4]):\n",
        "                kernel_weight = np.moveaxis(np.r_[pre_trained_model[layer_index].weight], (0,1),(4,3))\n",
        "                bias = np.r_[pre_trained_model[layer_index].bias]\n",
        "                weights_pretrained[layer_name].append(kernel_weight)\n",
        "                weights_pretrained[layer_name].append(bias)\n",
        "    # set weights\n",
        "    layers = set(list(weights_pretrained.keys()))\n",
        "    for i,layer in enumerate(model.layers):\n",
        "        if layer.name != 'input_1' and layer.name in layers:\n",
        "            #print('Setting weights for layer {}'.format(layer.name))\n",
        "            model.layers[i].set_weights(weights_pretrained[layer.name])  \n",
        "\n",
        "    return model    "
      ],
      "execution_count": null,
      "outputs": []
    },
    {
      "cell_type": "code",
      "metadata": {
        "colab": {
          "base_uri": "https://localhost:8080/",
          "height": 69
        },
        "id": "XzraJQuyCcEj",
        "outputId": "513e1272-7234-4dfd-df5a-34abc2a64302"
      },
      "source": [
        "if args.inputShape[-1] == 3 and args.weights in ['ucf1_rgb100_fromC3D_71', 'ucf3_rgb100_fromC3D_71', 'ucf2_rgb100_fromC3D_71']:\n",
        "    print('loading weights')\n",
        "    model_name = args.weights+'.t7'\n",
        "    weights_url = WEIGHTS_PATH_NO_TOP[args.weights]\n",
        "    # from web\n",
        "    downloaded_weights_path = tf.keras.utils.get_file(model_name, weights_url, cache_subdir='models')\n",
        "    pre_trained_model = torchfile.load(downloaded_weights_path).modules\n",
        "    # set weights\n",
        "    encoder = load_weights(encoder, pre_trained_model) \n",
        "\n",
        "# layer freezing\n",
        "if args.layer2freeze != None:\n",
        "    for layer in encoder.layers[:args.layer2freeze]:\n",
        "        layer.trainable = False\n",
        "    for layer in encoder.layers[args.layer2freeze:]:\n",
        "        layer.trainable = True"
      ],
      "execution_count": null,
      "outputs": [
        {
          "output_type": "stream",
          "text": [
            "loading weights\n"
          ],
          "name": "stdout"
        }
      ]
    },
    {
      "cell_type": "markdown",
      "metadata": {
        "id": "2N_drjjrCcEx"
      },
      "source": [
        "#### Decoder Nework"
      ]
    },
    {
      "cell_type": "code",
      "metadata": {
        "id": "-fhmYNlJCcE1"
      },
      "source": [
        "class DecoderNetwork(tf.keras.Model):\n",
        "    def __init__(self, params, name='DecoderNetwork'):\n",
        "        super(DecoderNetwork, self).__init__(name=name)\n",
        "        self.params = params\n",
        "        self.decoder_embedding = tf.keras.layers.Embedding(input_dim=params.vocab_size+1,\n",
        "                                                           output_dim=params.unitsEmbedding) \n",
        "        self.dense_layer = tf.keras.layers.Dense(params.vocab_size)\n",
        "        self.decoder_rnncell = tf.keras.layers.GRUCell(params.rnnUnits)\n",
        "        # for stacked rnn cells\n",
        "        #rnn_cells = [tf.keras.layers.GRUCell(params.rnnUnits) for _ in range(3)]\n",
        "        #self.decoder_rnncell = tf.keras.layers.StackedRNNCells(rnn_cells)\n",
        "\n",
        "        # Sampler\n",
        "        self.sampler = tfa.seq2seq.sampler.TrainingSampler()\n",
        "        # Create attention mechanism with memory = None\n",
        "        self.attention_mechanism = self.build_attention_mechanism(params.denseUnits,\n",
        "                                                                  None,\n",
        "                                                                  params.batchSize*[28])\n",
        "        self.rnn_cell =  self.build_rnn_cell(params.batchSize)\n",
        "        self.decoder = tfa.seq2seq.BasicDecoder(self.rnn_cell, sampler=self.sampler,\n",
        "                                                output_layer=self.dense_layer)\n",
        "\n",
        "    def build_attention_mechanism(self, units, memory, memory_sequence_length):\n",
        "        return tfa.seq2seq.LuongAttention(units, memory = memory,memory_sequence_length=memory_sequence_length \n",
        "                                          )#\n",
        "        #return tfa.seq2seq.BahdanauAttention(units, memory = memory, memory_sequence_length=memory_sequence_length)\n",
        "\n",
        "    # wrap decodernn cell  \n",
        "    def build_rnn_cell(self, batch_size ):\n",
        "        rnn_cell = tfa.seq2seq.AttentionWrapper(self.decoder_rnncell, self.attention_mechanism,\n",
        "                                                attention_layer_size=self.params.denseUnits)\n",
        "        return rnn_cell\n",
        "    \n",
        "    def build_decoder_initial_state(self, batch_size, encoder_state,Dtype):\n",
        "        decoder_initial_state = self.rnn_cell.get_initial_state(batch_size = batch_size, \n",
        "                                                                dtype = Dtype)\n",
        "        decoder_initial_state = decoder_initial_state.clone(cell_state=encoder_state) \n",
        "        \n",
        "        return decoder_initial_state  "
      ],
      "execution_count": null,
      "outputs": []
    },
    {
      "cell_type": "code",
      "metadata": {
        "id": "5MNE3CWmCcE-"
      },
      "source": [
        "decoder = DecoderNetwork(args)"
      ],
      "execution_count": null,
      "outputs": []
    },
    {
      "cell_type": "markdown",
      "metadata": {
        "id": "CrXDe3KyCcFI"
      },
      "source": [
        "### Training"
      ]
    },
    {
      "cell_type": "code",
      "metadata": {
        "id": "RUGt_jg3CcFK"
      },
      "source": [
        "optimizer = tf.keras.optimizers.Adam(args.lr)"
      ],
      "execution_count": null,
      "outputs": []
    },
    {
      "cell_type": "code",
      "metadata": {
        "id": "Bj53vNcICcFQ"
      },
      "source": [
        "def loss_function(y_pred, y):\n",
        "   \n",
        "    #shape of y [batch_size, ty]\n",
        "    #shape of y_pred [batch_size, Ty, output_vocab_size] \n",
        "    sparsecategoricalcrossentropy = tf.keras.losses.SparseCategoricalCrossentropy(from_logits=True,\n",
        "                                                                                  reduction='none')\n",
        "    loss = sparsecategoricalcrossentropy(y_true=y, y_pred=y_pred)\n",
        "    mask = tf.logical_not(tf.math.equal(y,0))   #output 0 for y=0 else output 1\n",
        "    mask = tf.cast(mask, dtype=loss.dtype)\n",
        "    loss = mask* loss\n",
        "    loss = tf.reduce_mean(loss)\n",
        "    return loss\n",
        "\n",
        "@tf.function\n",
        "def train_step(enc_input_1, enc_input_2, dec_input, dec_output):\n",
        "    #initialize loss = 0\n",
        "    loss = 0\n",
        "    with tf.GradientTape() as tape:\n",
        "        #[last step activations] of encoder passed as input to decoder Network\n",
        "        a_tx, a = encoder(enc_input_1, enc_input_2)\n",
        "        #print('encoder final state {}'.format(a_tx.shape), type(a_tx))\n",
        "        #print('encoder features {}'.format(a.shape), type(a))\n",
        "        # Decoder Embeddings\n",
        "        decoder_emb_inp = decoder.decoder_embedding(dec_input)\n",
        "        #print('Decoder embedding {}'.format(decoder_emb_inp.shape), type(decoder_emb_inp))\n",
        "        #Setting up decoder memory from encoder output and Zero State for AttentionWrapperState\n",
        "        decoder.attention_mechanism.setup_memory(a)\n",
        "        decoder_initial_state = decoder.build_decoder_initial_state(args.batchSize,\n",
        "                                                                           encoder_state=a_tx,\n",
        "                                                                           Dtype=tf.float32)\n",
        "        \n",
        "        #print('ATTENTION WRAP')\n",
        "        #print('Decoder cell state {}'.format(decoder_initial_state.cell_state.shape), type(decoder_initial_state.cell_state))\n",
        "        #print('Decoder attention {}'.format(decoder_initial_state.attention.shape), type(decoder_initial_state.attention))\n",
        "        #print('Decoder attention state {}'.format(decoder_initial_state.attention_state.shape), type(decoder_initial_state.attention_state))\n",
        "        #print('Decoder alignments {}'.format(decoder_initial_state.alignments.shape), type(decoder_initial_state.alignments))\n",
        "        #print('Decoder alignment history {}'.format(len(decoder_initial_state.alignment_history)), type(decoder_initial_state.alignment_history))\n",
        "        \n",
        "        #BasicDecoderOutput        \n",
        "        outputs, _, _ = decoder.decoder(decoder_emb_inp,initial_state=decoder_initial_state,\n",
        "                                               sequence_length=args.batchSize*[args.ty-1])\n",
        "        logits = outputs.rnn_output\n",
        "        #print('RNN output {}'.format(logits.shape), type(logits))\n",
        "        #print('Sample id {}'.format(outputs.sample_id.shape), type(outputs.sample_id))\n",
        "        #print('Decoder target {}'.format(dec_output.shape), type(dec_output))\n",
        "        #Calculate loss\n",
        "        loss = loss_function(logits, dec_output)\n",
        "\n",
        "    #Returns the list of all layer variables / weights.\n",
        "    variables = encoder.trainable_variables + decoder.trainable_variables  \n",
        "    # differentiate loss wrt variables\n",
        "    gradients = tape.gradient(loss, variables)\n",
        "\n",
        "    #grads_and_vars – List of(gradient, variable) pairs.\n",
        "    grads_and_vars = zip(gradients,variables)\n",
        "    optimizer.apply_gradients(grads_and_vars)\n",
        "    return loss"
      ],
      "execution_count": null,
      "outputs": []
    },
    {
      "cell_type": "code",
      "metadata": {
        "id": "H3DjQzCFN7g0",
        "outputId": "dfc6f077-cb3d-4c3f-e754-4079ff33aa2e"
      },
      "source": [
        "# checkpoint manager\n",
        "checkpoint_path = \"results/checkpoints/train\" \n",
        "os.makedirs(checkpoint_path, exist_ok = True)\n",
        "\n",
        "checkpoint_dir = os.path.dirname(checkpoint_path)\n",
        "\n",
        "ckpt = tf.train.Checkpoint(step=tf.Variable(1),\n",
        "                           encoder=encoder,\n",
        "                           decoder=decoder,\n",
        "                           optimizer = optimizer)\n",
        "\n",
        "ckpt_manager = tf.train.CheckpointManager(ckpt, checkpoint_path, max_to_keep=3)  \n",
        "\n",
        "# load latest check\n",
        "start_epoch = 0\n",
        "if ckpt_manager.latest_checkpoint:\n",
        "    start_epoch = int(ckpt_manager.latest_checkpoint.split('-')[-1])\n",
        "    # restoring the latest checkpoint in checkpoint_path\n",
        "    ckpt.restore(ckpt_manager.latest_checkpoint)\n",
        "    print('Epoch ', start_epoch)\n",
        "    print('Latest check ..', ckpt_manager.latest_checkpoint)"
      ],
      "execution_count": null,
      "outputs": [
        {
          "output_type": "stream",
          "text": [
            "Epoch  10\n",
            "Latest check .. results/checkpoints/train/ckpt-10\n"
          ],
          "name": "stdout"
        }
      ]
    },
    {
      "cell_type": "code",
      "metadata": {
        "id": "1rL-gONrCcFW",
        "scrolled": false
      },
      "source": [
        "#tf.keras.backend.set_floatx('float64')\n",
        "\n",
        "# training\n",
        "for i in range(start_epoch+1, args.epochs+1):\n",
        "    total_loss = 0.0\n",
        "    ckpt.step.assign_add(1)\n",
        "    for (batch, (x,y)) in enumerate(datasets_train):\n",
        "        enc_input_1 = x['encoder_input']\n",
        "        enc_input_2 = x['encoder_input_2']\n",
        "        dec_input = x['decoder_input']\n",
        "        dec_output = y \n",
        "        batch_loss = train_step(enc_input_1, enc_input_2, dec_input, dec_output)\n",
        "        total_loss += batch_loss\n",
        "        if (batch+1)%1 == 0:\n",
        "            print(\"total loss: {} batch_loss: {} epoch {} batch {} \".format(total_loss.numpy()/i, batch_loss.numpy(), i, batch+1))\n",
        "    if i%2 == 0:\n",
        "        save_path = ckpt_manager.save()\n",
        "        print(\"Checkpoint saved {}: {}\".format(int(ckpt.step), save_path))\n",
        "# save the entire final models and weights\n",
        "encoder.save_weights(checkpoint_path+'/final_encoder_model_weights.h5')\n",
        "decoder.save_weights(checkpoint_path+'/final_decoder_model_weights.h5')"
      ],
      "execution_count": null,
      "outputs": []
    },
    {
      "cell_type": "markdown",
      "metadata": {
        "id": "ZorWaXUWCcFg"
      },
      "source": [
        "## Greedy and Beam search inference"
      ]
    },
    {
      "cell_type": "markdown",
      "metadata": {
        "id": "CK55fl0knYmS"
      },
      "source": [
        "### INFERENCE with greedy sampling:"
      ]
    },
    {
      "cell_type": "code",
      "metadata": {
        "colab": {
          "base_uri": "https://localhost:8080/",
          "height": 86
        },
        "id": "ikp2a-X5o_hx",
        "outputId": "50a05193-ead7-4575-ac91-bbf6ec2e8de5"
      },
      "source": [
        "# TODO: Acomodar para soportar varias muestras, falta solo en la parte de mostrar las frases\n",
        "inference_batchSize = 1\n",
        "start_tokens = tf.fill([inference_batchSize],vocab.word_index['<s>'])\n",
        "end_token = vocab.word_index['</s>'] \n",
        "\n",
        "file_translations = open('results/translations.txt',\"a+\")\n",
        "file_references = open('results/references.txt',\"a+\")\n",
        "\n",
        "for (batch, (x,y)) in enumerate(datasets_test):\n",
        "    enc_input_1 = x['encoder_input']\n",
        "    enc_input_2 = x['encoder_input_2']\n",
        "    dec_input = x['decoder_input']\n",
        "    dec_output = y    \n",
        "    target = y.numpy().ravel()\n",
        "    sentence_target = [vocab.index_word[target[i]] for i in range(0,len(target)) if target[i]!=0]\n",
        "    reference = \" \".join(sentence_target)\n",
        "    print('\\nReference: ', reference)     \n",
        "    greedy_sampler = tfa.seq2seq.GreedyEmbeddingSampler()\n",
        "    a_tx, a = encoder(enc_input_1, enc_input_2)\n",
        "    decoder_input = tf.expand_dims([vocab.word_index['<s>']]*inference_batchSize,1)\n",
        "    decoder_emb_input = decoder.decoder_embedding(decoder_input)\n",
        "    decoder_instance = tfa.seq2seq.BasicDecoder(cell=decoder.rnn_cell, sampler=greedy_sampler,\n",
        "                                                output_layer=decoder.dense_layer)\n",
        "    decoder.attention_mechanism.setup_memory(a)\n",
        "    decoder_initial_state = decoder.build_decoder_initial_state(inference_batchSize,\n",
        "                                                                encoder_state=a_tx,\n",
        "                                                                Dtype=tf.float32)\n",
        "    decoder_embedding_matrix = decoder.decoder_embedding.variables[0] \n",
        "    (first_finished, first_inputs, first_state) = decoder_instance.initialize(decoder_embedding_matrix,\n",
        "                                                                              start_tokens=start_tokens,\n",
        "                                                                              end_token=end_token,\n",
        "                                                                              initial_state = decoder_initial_state) \n",
        "    inputs = first_inputs\n",
        "    state = first_state  \n",
        "    predictions = np.empty((inference_batchSize,0), dtype = np.int32)\n",
        "    maximum_iterations = args.ty\n",
        "    for j in tf.range(maximum_iterations):\n",
        "        outputs, next_state, next_inputs, finished = decoder_instance.step(j,inputs,state)\n",
        "        inputs = next_inputs\n",
        "        state = next_state\n",
        "        outputs = np.expand_dims(outputs.sample_id,axis = -1)\n",
        "        predictions = np.append(predictions, outputs, axis = -1)\n",
        "        if vocab.index_word[outputs[0][0]]=='</s>':\n",
        "            break \n",
        "    # translation ouput\n",
        "    sentence_translated = [vocab.index_word[predictions[0,i]] for i in range(0,predictions.shape[-1])]#if target[i]!=0\n",
        "    translation = \" \".join(sentence_translated) \n",
        "    print('\\nTranslation: ', translation)   \n",
        "    ## Guardar las predicciones\n",
        "    file_references.write(reference.replace('</s>',''))\n",
        "    file_references.write('\\n')\n",
        "    file_translations.write(translation.replace('</s>',''))\n",
        "    file_translations.write('\\n')\n",
        "file_translations.close()\n",
        "file_references.close()\n",
        "# remove used gpu\n",
        "reset_tf_keras()   "
      ],
      "execution_count": null,
      "outputs": [
        {
          "output_type": "stream",
          "text": [
            "\n",
            "Reference:  ¿ tú cómo estás ? </s>\n",
            "\n",
            "Translation:  ¿ no a </s> </s> </s> </s> </s> </s> </s> </s> </s> </s> </s>\n",
            "\n",
            "Reference:  ella va a traer un perro al colegio mañana . </s>\n",
            "\n",
            "Translation:  ¿ no a </s> </s> </s> </s> </s> </s> </s> </s> </s> </s> </s>\n",
            "\n",
            "Reference:  tú irás a trabajar . </s>\n",
            "\n",
            "Translation:  ¿ tú a </s> </s> </s> </s> </s> </s> </s> </s> </s> </s> </s>\n",
            "\n",
            "Reference:  yo estoy cansado . </s>\n",
            "\n",
            "Translation:  ¿ tú a </s> </s> </s> </s> </s> </s> </s> </s> </s> </s> </s>\n",
            "\n",
            "Reference:  mary le cuenta a juan que compró una casa . </s>\n",
            "\n",
            "Translation:  ¿ no ? </s> </s> </s> </s> </s> </s> </s> </s> </s> </s> </s>\n",
            "\n",
            "Reference:  tu hermano tiene hambre . </s>\n",
            "\n",
            "Translation:  ¿ no a </s> </s> </s> </s> </s> </s> </s> </s> </s> </s> </s>\n",
            "\n",
            "Reference:  el libro que juan compró ayer . </s>\n",
            "\n",
            "Translation:  ¿ no a </s> </s> </s> </s> </s> </s> </s> </s> </s> </s> </s>\n",
            "\n",
            "Reference:  la mamá de juan es profesora . </s>\n",
            "\n",
            "Translation:  ¿ no a </s> </s> </s> </s> </s> </s> </s> </s> </s> </s> </s>\n",
            "\n",
            "Reference:  ¿ tú cuántos años tienes ? </s>\n",
            "\n",
            "Translation:  ¿ tú a </s> </s> </s> </s> </s> </s> </s> </s> </s> </s> </s>\n",
            "\n",
            "Reference:  nosotros somos cansones . </s>\n",
            "\n",
            "Translation:  ¿ no a </s> </s> </s> </s> </s> </s> </s> </s> </s> </s> </s>\n"
          ],
          "name": "stdout"
        }
      ]
    },
    {
      "cell_type": "markdown",
      "metadata": {
        "id": "qdm-tsFjnhHx"
      },
      "source": [
        "### INFERENCE with beam search sampling:"
      ]
    },
    {
      "cell_type": "code",
      "metadata": {
        "id": "BhLJuiUdN7g6"
      },
      "source": [
        "class MultiCellRNN(tf.keras.layers.Layer):\n",
        "\n",
        "    def __init__(self, num_layers, num_units, **kwargs):\n",
        "        super().__init__(**kwargs)\n",
        "\n",
        "        self.cells = [\n",
        "            tf.keras.layers.LSTMCell(\n",
        "                num_units,\n",
        "            )\n",
        "            for _ in range(num_layers)\n",
        "        ]\n",
        "\n",
        "        self.cell = tf.keras.layers.StackedRNNCells(\n",
        "            self.cells,\n",
        "        )\n",
        "\n",
        "    def call(self, x, state, **kwargs):\n",
        "\n",
        "        state = tf.split(state, [128, 128, 128, 128], 1)\n",
        "        x, state = self.cell(x, ([state[0], state[1]], [state[2], state[3]]))\n",
        "        state = tf.concat([state[0][0], state[0][1], state[1][0], state[1][1]], 1)\n",
        "\n",
        "        return x, state"
      ],
      "execution_count": null,
      "outputs": []
    },
    {
      "cell_type": "code",
      "metadata": {
        "colab": {
          "base_uri": "https://localhost:8080/",
          "height": 86
        },
        "id": "DMi4oXLDx8vH",
        "outputId": "25f52591-de42-414d-9b04-b9280e3145c8"
      },
      "source": [
        "# TODO: Acomodar para soportar varias muestras, falta solo en la parte de mostrar las frases\n",
        "inference_batchSize = 1\n",
        "beam_width = 5\n",
        "start_tokens = tf.fill([inference_batchSize],vocab.word_index['<s>'])\n",
        "end_token = vocab.word_index['</s>'] \n",
        "\n",
        "for (batch, (x,y)) in enumerate(datasets_test.take(10)):\n",
        "    enc_input_1 = x['encoder_input']\n",
        "    enc_input_2 = x['encoder_input_2']\n",
        "    dec_input = x['decoder_input']\n",
        "    dec_output = y    \n",
        "    target = y.numpy().ravel()\n",
        "    sentence_target = [vocab.index_word[target[i]] for i in range(0,len(target)) if target[i]!=0]\n",
        "    reference = \" \".join(sentence_target)\n",
        "    print('\\nReference: ', reference) \n",
        "    # a_tx --> Last final representation | a --> Features reduced\n",
        "    a_tx, a = encoder(enc_input_1, enc_input_2)\n",
        "    # tile encoder outputs \n",
        "    encoder_memory = tfa.seq2seq.tile_batch(a, multiplier=beam_width)\n",
        "    decoder.attention_mechanism.setup_memory(encoder_memory)\n",
        "    # encoder final state\n",
        "    encoder_state = tfa.seq2seq.tile_batch(a_tx, multiplier=beam_width)\n",
        "    # decoder initial state\n",
        "    decoder_initial_state = decoder.build_decoder_initial_state(inference_batchSize*beam_width,\n",
        "                                                                encoder_state=encoder_state,\n",
        "                                                                Dtype=tf.float32)\n",
        "    # Decoder input\n",
        "    decoder_input = tf.expand_dims([vocab.word_index['<s>']]*inference_batchSize,1)\n",
        "    decoder_emb_input = decoder.decoder_embedding(decoder_input)\n",
        "    # beam search decoder inference\n",
        "    decoder_instance = tfa.seq2seq.BeamSearchDecoder(cell=decoder.rnn_cell, beam_width=beam_width,\n",
        "                                                output_layer=decoder.dense_layer,\n",
        "                                                    output_time_major=True,\n",
        "                                                    length_penalty_weight=0.6,\n",
        "                                                    coverage_penalty_weight=0.2)\n",
        "    \n",
        "    # decoder instance\n",
        "    decoder_embedding_matrix = decoder.decoder_embedding.variables[0] \n",
        "    (first_finished, first_inputs, first_state) = decoder_instance.initialize(decoder_embedding_matrix,\n",
        "                                                                              start_tokens=start_tokens,\n",
        "                                                                              end_token=end_token,\n",
        "                                                                              initial_state = decoder_initial_state) \n",
        "    inputs = first_inputs\n",
        "    state = first_state  \n",
        "    predictions = np.empty((inference_batchSize, beam_width, 1), dtype = np.int32)\n",
        "    scores = np.empty((inference_batchSize, beam_width, 1), dtype = np.int32)\n",
        "    maximum_iterations = args.ty\n",
        "    for j in tf.range(maximum_iterations):\n",
        "        outputs, next_state, next_inputs, finished = decoder_instance.step(j,inputs,state)\n",
        "        #print(outputs, finished)\n",
        "        inputs = next_inputs\n",
        "        state = next_state\n",
        "        outputs_ids = outputs.predicted_ids\n",
        "        outputs_parent_ids = outputs.parent_ids\n",
        "        outputs_scores = outputs.scores \n",
        "        predictions = np.append(predictions, np.expand_dims(outputs_ids, axis=-1), axis = -1)\n",
        "        scores = np.append(scores, np.expand_dims(outputs_scores, axis=-1), axis = -1)\n",
        "\n",
        "    # For all batches\n",
        "    high = -np.inf\n",
        "    for i in range(len(predictions)):\n",
        "        print('Prediction {}'.format(i+1))\n",
        "        output_beams_per_sample = predictions[i,:,:]\n",
        "        scores_beams_per_samples = scores[i,:,:]\n",
        "        for beam, score in zip(output_beams_per_sample, scores_beams_per_samples):\n",
        "            sum_ = 0\n",
        "            prod_ = 1\n",
        "            translation = []\n",
        "            for k,b in enumerate(beam):\n",
        "                if b in list(range(0, args.vocab_size)):\n",
        "                    if vocab.index_word[b]=='</s>':\n",
        "                        break\n",
        "                    else:\n",
        "                        sum_ = sum_ + np.exp(score[k])\n",
        "                        prod_ = prod_ * score[k]\n",
        "                        translation.append(vocab.index_word[b])\n",
        "\n",
        "            print(\"--> Sum of probabilities {} product of probabilities {}\".format(sum_, prod_))\n",
        "            print('--> Translation: {}'.format(\" \".join(translation)))      "
      ],
      "execution_count": null,
      "outputs": [
        {
          "output_type": "stream",
          "text": [
            "\n",
            "Reference:  ¿ tú cómo estás ? </s>\n",
            "Prediction 1\n",
            "--> Sum of probabilities inf product of probabilities -4441047286.224307\n",
            "--> Translation: ¿ ¿ no a\n",
            "--> Sum of probabilities 1.1695784393576005 product of probabilities 0.0\n",
            "--> Translation: no mary tú ? .\n",
            "--> Sum of probabilities inf product of probabilities -55657971577.6436\n",
            "--> Translation: a las juan a\n",
            "--> Sum of probabilities 0 product of probabilities 1\n",
            "--> Translation: \n",
            "--> Sum of probabilities 0 product of probabilities 1\n",
            "--> Translation: \n"
          ],
          "name": "stdout"
        },
        {
          "output_type": "stream",
          "text": [
            "/usr/local/lib/python3.6/dist-packages/ipykernel_launcher.py:74: RuntimeWarning: overflow encountered in exp\n"
          ],
          "name": "stderr"
        },
        {
          "output_type": "stream",
          "text": [
            "\n",
            "Reference:  ella va a traer un perro al colegio mañana . </s>\n",
            "Prediction 1\n",
            "--> Sum of probabilities 0.7407560167078588 product of probabilities -4.41512737830577\n",
            "--> Translation: ¿ no a\n",
            "--> Sum of probabilities 485165195.6201068 product of probabilities 2463.2645251315535\n",
            "--> Translation: <pad> mary tú a .\n",
            "--> Sum of probabilities 0.12495708521972075 product of probabilities 196.62345672736961\n",
            "--> Translation: carlos juan ? ?\n",
            "--> Sum of probabilities 20.189684490647164 product of probabilities 684.7893113942768\n",
            "--> Translation: <pad> no a ? .\n",
            "--> Sum of probabilities 20.175243925113072 product of probabilities 130241845346616.92\n",
            "--> Translation: futuro las viaja . ? . estás . mes casa mes casa ? casa ?\n",
            "\n",
            "Reference:  tú irás a trabajar . </s>\n",
            "Prediction 1\n",
            "--> Sum of probabilities inf product of probabilities -5177685594.076649\n",
            "--> Translation: ¿ ¿ tú a\n",
            "--> Sum of probabilities 1.1694833377757199 product of probabilities 0.0\n",
            "--> Translation: no carlos no ? .\n",
            "--> Sum of probabilities inf product of probabilities 305405102547.5037\n",
            "--> Translation: a mary juan a .\n",
            "--> Sum of probabilities 0 product of probabilities 1\n",
            "--> Translation: \n",
            "--> Sum of probabilities 0 product of probabilities 1\n",
            "--> Translation: \n",
            "\n",
            "Reference:  yo estoy cansado . </s>\n",
            "Prediction 1\n",
            "--> Sum of probabilities 0.8080955542219889 product of probabilities -3.4545655407571263\n",
            "--> Translation: ¿ tú a\n",
            "--> Sum of probabilities 485165195.6112665 product of probabilities -464.1081730248963\n",
            "--> Translation: <pad> mary no .\n",
            "--> Sum of probabilities 0.116491848832069 product of probabilities 200.6581762850374\n",
            "--> Translation: carlos juan a .\n",
            "--> Sum of probabilities 20.19707441476618 product of probabilities 69528630281321.8\n",
            "--> Translation: <pad> las a . . . . . . casa . casa . casa .\n",
            "--> Sum of probabilities 20.172765701672894 product of probabilities 98019092261039.78\n",
            "--> Translation: futuro no un ? ? . ? casa casa . casa . casa . mes\n",
            "\n",
            "Reference:  mary le cuenta a juan que compró una casa . </s>\n",
            "Prediction 1\n",
            "--> Sum of probabilities inf product of probabilities 32392496763.472584\n",
            "--> Translation: ¿ ¿ no ? ?\n",
            "--> Sum of probabilities 1.187128725027986 product of probabilities 0.0\n",
            "--> Translation: no las tú a ?\n",
            "--> Sum of probabilities inf product of probabilities -46036495448.061035\n",
            "--> Translation: a mary juan ?\n",
            "--> Sum of probabilities 0 product of probabilities 1\n",
            "--> Translation: \n",
            "--> Sum of probabilities 0 product of probabilities 1\n",
            "--> Translation: \n",
            "\n",
            "Reference:  tu hermano tiene hambre . </s>\n",
            "Prediction 1\n",
            "--> Sum of probabilities 0.8226282171980455 product of probabilities 16.064207200964926\n",
            "--> Translation: ¿ no a ?\n",
            "--> Sum of probabilities 485165195.6078718 product of probabilities 2441.1683117314697\n",
            "--> Translation: <pad> mary tú ? .\n",
            "--> Sum of probabilities 0.1318741996341576 product of probabilities 183.53154395381077\n",
            "--> Translation: carlos juan a ?\n",
            "--> Sum of probabilities 20.19551011111984 product of probabilities 646.6994888720839\n",
            "--> Translation: <pad> no a . .\n",
            "--> Sum of probabilities 20.1788554856584 product of probabilities 746.078298918972\n",
            "--> Translation: futuro las un ? ?\n",
            "\n",
            "Reference:  el libro que juan compró ayer . </s>\n",
            "Prediction 1\n",
            "--> Sum of probabilities inf product of probabilities -8734767486.610422\n",
            "--> Translation: ¿ ¿ no a\n",
            "--> Sum of probabilities 1.2010246966378255 product of probabilities 0.0\n",
            "--> Translation: no carlos tú ? .\n",
            "--> Sum of probabilities inf product of probabilities 264395770351.67493\n",
            "--> Translation: a las juan . ?\n",
            "--> Sum of probabilities 0 product of probabilities 1\n",
            "--> Translation: \n",
            "--> Sum of probabilities 0 product of probabilities 1\n",
            "--> Translation: \n",
            "\n",
            "Reference:  la mamá de juan es profesora . </s>\n",
            "Prediction 1\n",
            "--> Sum of probabilities 0.7680315271569375 product of probabilities -4.009974691147694\n",
            "--> Translation: ¿ no a\n",
            "--> Sum of probabilities 485165195.5657245 product of probabilities 3217.091831435038\n",
            "--> Translation: <pad> carlos tú ? .\n",
            "--> Sum of probabilities 0.14361097163534214 product of probabilities 177.23392372021883\n",
            "--> Translation: mary juan . ?\n",
            "--> Sum of probabilities 20.179542470730695 product of probabilities 87588527408177.9\n",
            "--> Translation: <pad> no a a . . . . . casa . casa . casa .\n",
            "--> Sum of probabilities 20.16566127260532 product of probabilities -156.5666028185215\n",
            "--> Translation: futuro las viaja ?\n",
            "\n",
            "Reference:  ¿ tú cuántos años tienes ? </s>\n",
            "Prediction 1\n",
            "--> Sum of probabilities inf product of probabilities 29282276655.085773\n",
            "--> Translation: ¿ ¿ tú a .\n",
            "--> Sum of probabilities 1.2053687138061038 product of probabilities 0.0\n",
            "--> Translation: no mary no a .\n",
            "--> Sum of probabilities inf product of probabilities 256927385762.2779\n",
            "--> Translation: a carlos juan ? ?\n",
            "--> Sum of probabilities 0 product of probabilities 1\n",
            "--> Translation: \n",
            "--> Sum of probabilities 0 product of probabilities 1\n",
            "--> Translation: \n",
            "\n",
            "Reference:  nosotros somos cansones . </s>\n",
            "Prediction 1\n",
            "--> Sum of probabilities 0.8155733961787301 product of probabilities -3.361792532068391\n",
            "--> Translation: ¿ no a\n",
            "--> Sum of probabilities 485165195.55972475 product of probabilities -613.5025987766111\n",
            "--> Translation: <pad> mary tú .\n",
            "--> Sum of probabilities 0.11294039341787948 product of probabilities -1484.5791267476943\n",
            "--> Translation: las juan ? . ?\n",
            "--> Sum of probabilities 20.18544673508057 product of probabilities -128.81113070181627\n",
            "--> Translation: <pad> no a a\n",
            "--> Sum of probabilities 20.16839007445583 product of probabilities -147.85553228000555\n",
            "--> Translation: futuro carlos viaja .\n"
          ],
          "name": "stdout"
        }
      ]
    },
    {
      "cell_type": "code",
      "metadata": {
        "id": "N47OwyjBN7g9",
        "outputId": "89e95452-9c52-447f-c8d6-5519feacb920"
      },
      "source": [
        "predictions.shape"
      ],
      "execution_count": null,
      "outputs": [
        {
          "output_type": "execute_result",
          "data": {
            "text/plain": [
              "(1, 5, 15)"
            ]
          },
          "metadata": {
            "tags": []
          },
          "execution_count": 38
        }
      ]
    },
    {
      "cell_type": "code",
      "metadata": {
        "id": "MfyPuCW7N7g_",
        "outputId": "5c1405d8-9e38-482e-c675-c6516fb6ad0e"
      },
      "source": [
        "for i in range(len(predictions)):\n",
        "    print('Prediction {}'.format(i+1))\n",
        "    output_beams_per_sample = predictions[i,:,:]\n",
        "    scores_beams_per_samples = scores[i,:,:]\n",
        "    for beam, score in zip(output_beams_per_sample, scores_beams_per_samples):\n",
        "        sum_, prod_ = score.sum(), score.prod()\n",
        "        print(\"--> Sum of probabilities {} product of probabilities {}\".format(sum_, prod_))\n",
        "        print('--> Translation: {}'.format(\" \".join([vocab.index_word[w] for w in beam if w in list(range(0, args.vocab_size))])))   "
      ],
      "execution_count": null,
      "outputs": [
        {
          "output_type": "stream",
          "text": [
            "Prediction 1\n",
            "--> Sum of probabilities -128.23054081201553 product of probabilities 5224590669722.97\n",
            "--> Translation: ¿ no a </s> </s> </s> </s> </s> </s> </s> </s> </s> </s> </s>\n",
            "--> Sum of probabilities -125.39176511764526 product of probabilities 276418808242876.25\n",
            "--> Translation: <pad> mary tú . </s> . </s> casa </s> casa </s> casa </s> casa </s>\n",
            "--> Sum of probabilities -142.84626960754395 product of probabilities 135764476329491.72\n",
            "--> Translation: las juan ? . ? </s> . </s> . </s> . </s> . </s>\n",
            "--> Sum of probabilities -148.85298657417297 product of probabilities 95808489303841.14\n",
            "--> Translation: <pad> no a a </s> casa </s> ? </s> ? </s> mes </s> mes </s>\n",
            "--> Sum of probabilities -152.4958212375641 product of probabilities 146995305113346.88\n",
            "--> Translation: futuro carlos viaja . </s> estás . mes casa mes casa ? casa ? casa\n"
          ],
          "name": "stdout"
        }
      ]
    },
    {
      "cell_type": "markdown",
      "metadata": {
        "id": "5u53DlW-N0Ap"
      },
      "source": [
        "## Visualization"
      ]
    },
    {
      "cell_type": "code",
      "metadata": {
        "id": "2zl_U-1qDL4B"
      },
      "source": [
        "# translation ouput\n",
        "sentence_translated = [vocab.index_word[predictions[0,i]] for i in range(0,predictions.shape[-1])]#if target[i]!=0\n",
        "translation = \" \".join(sentence_translated) \n",
        "print('\\nTranslation: ', translation)  "
      ],
      "execution_count": null,
      "outputs": []
    },
    {
      "cell_type": "code",
      "metadata": {
        "id": "_NqEbMrnCcFh"
      },
      "source": [
        "def video2text(dataset_valid, dataset_test, encoder_trained, decoder_trained, vocab, params, search='Greedy'):\n",
        "    from collections import defaultdict\n",
        "    import pickle\n",
        "    import tensorflow as tf\n",
        "    import numpy as np\n",
        "    import os\n",
        "\n",
        "    directory = params.dataset\n",
        "  \n",
        "    # Parent Directory path \n",
        "    parent_dir = params.path2save\n",
        "  \n",
        "    # Path \n",
        "    path_dir = os.path.join(parent_dir, directory) \n",
        "  \n",
        "    # Create the directory \n",
        "    try: \n",
        "        os.makedirs(path_dir, exist_ok = True) \n",
        "        print(\"Directory '%s' created successfully\" %directory) \n",
        "    except OSError as error: \n",
        "        print(\"Directory '%s' can not be created\")     \n",
        "    \n",
        "    #datasets = [dataset_valid, dataset_test]\n",
        "    datasets = [dataset_test]\n",
        "    results = defaultdict(dict)\n",
        "\n",
        "    index_word = vocab.index_word\n",
        "    word_index = vocab.word_index\n",
        "    \n",
        "    for name, dataset in zip(['test'],datasets):\n",
        "        counter_video = 1 \n",
        "        file_translations = open(path_dir+'/translations.'+name,\"a+\")\n",
        "        file_references = open(path_dir+'/references.'+name,\"a+\")\n",
        "        for x, y in dataset:\n",
        "            print('Video sign: {}'.format(counter_video))\n",
        "            video = x['encoder_input']\n",
        "            target = y.numpy().ravel()\n",
        "            sentence_target = [index_word[target[i]] for i in range(0,len(target)) if target[i]!=0]\n",
        "            reference = \" \".join(sentence_target)\n",
        "            print('\\nReference: ', reference)     \n",
        "            h1, c1, h2, c2, h3, c3, h4, c4, enc_outputs_high, self_att, w4, w5  = encoder_trained.predict(video) \n",
        "            word_input = np.zeros((1, 1))\n",
        "            word_input[0, 0] = word_index['<s>']\n",
        "            stop_condition = False\n",
        "            decoded_sentence = list()\n",
        "            temporal_weights = list()\n",
        "            while not stop_condition:\n",
        "                prediction, h1, c1, h2, c2, h3, c3, h4, c4, att_w_temporal = decoder_trained.predict([enc_outputs_high, \n",
        "                                                                                      h1, c1, \n",
        "                                                                                      h2, c2,\n",
        "                                                                                      h3, c3,\n",
        "                                                                                      h4, c4,\n",
        "                                                                                      word_input])\n",
        "                #predicted_id = tf.random.categorical(tf.squeeze(prediction, axis=1), 1)[0][0].numpy()\n",
        "                #predicted_id = tf.math.argmax(prediction).numpy()\n",
        "                predicted_id = np.argmax(prediction)\n",
        "                temporal_weights.append(att_w_temporal)\n",
        "                word = index_word[predicted_id]\n",
        "                decoded_sentence.append(word)\n",
        "                if (word == '</s>' or len(decoded_sentence) > params.ty):\n",
        "                    stop_condition = True\n",
        "                if search==\"Greedy\":\n",
        "                        word_input = np.zeros((1, 1))\n",
        "                        word_input[0, 0] = predicted_id\n",
        "\n",
        "            file_references.write(reference.replace('</s>',''))\n",
        "            file_references.write('\\n')\n",
        "            translate = \" \".join(decoded_sentence)\n",
        "            file_translations.write(translate.replace('</s>',''))\n",
        "            file_translations.write('\\n')\n",
        "            print('Translation: {}'.format(translate))\n",
        "            print('\\n')\n",
        "            results[name][counter_video] = [decoded_sentence, sentence_target, temporal_weights, w4, w5, self_att]\n",
        "            decoded_sentence = list()\n",
        "            counter_video = counter_video + 1\n",
        "        file_translations.close()\n",
        "        file_references.close()\n",
        "    with open(path_dir+'/'+params.name+'.pkl', 'wb') as file:\n",
        "        pickle.dump(results, file)  \n",
        "    \n",
        "    #return results"
      ],
      "execution_count": null,
      "outputs": []
    },
    {
      "cell_type": "code",
      "metadata": {
        "id": "R1TwBkHM9PnZ"
      },
      "source": [
        "#counter = count_frames(path=args.videos_path, folder=args.type[:-1]) \n",
        "#print('Max number of frames: {} Min: {} Mean: {} std: {}'.format(max(counter), min(counter), np.mean(counter), np.std(counter))) "
      ],
      "execution_count": null,
      "outputs": []
    },
    {
      "cell_type": "code",
      "metadata": {
        "id": "IblKuTSn78OE"
      },
      "source": [
        "print('Vocab len: {} and table: {}'.format(len(vocab.index_word), vocab.index_word))"
      ],
      "execution_count": null,
      "outputs": []
    },
    {
      "cell_type": "code",
      "metadata": {
        "id": "FBmwjLtc8gSA"
      },
      "source": [
        "print('Max len of tokens: {}'.format(preprocessed_sentences[0].shape[1]))"
      ],
      "execution_count": null,
      "outputs": []
    },
    {
      "cell_type": "code",
      "metadata": {
        "id": "xhrvoKVrgsFR"
      },
      "source": [
        "#@title train helpers { display-mode: \"form\" }\n",
        "\n",
        "# loss functions\n",
        "\n",
        "def SparseCategoricalCrossentropy_mask():\n",
        "  def loss(real, pred):\n",
        "    loss_object = tf.keras.losses.SparseCategoricalCrossentropy(from_logits=False, reduction=tf.keras.losses.Reduction.SUM)\n",
        "    mask = tf.math.logical_not(tf.math.equal(real, 0))\n",
        "    loss_ = loss_object(real, pred)\n",
        "\n",
        "    mask = tf.cast(mask, dtype=loss_.dtype)\n",
        "    loss_ *= mask\n",
        "\n",
        "    return tf.reduce_mean(loss_)\n",
        "  return loss\n",
        "\n",
        "# learning rate decay\n",
        "def step_decay(epoch):\n",
        "    initial_lrate = args.lr\n",
        "    drop = args.decay\n",
        "    epochs_drop = args.nIters\n",
        "    lrate = initial_lrate * math.pow(drop,math.floor((1+epoch)/epochs_drop))\n",
        "    \n",
        "    return lrate\n",
        "\n",
        "lrate = tf.keras.callbacks.LearningRateScheduler(step_decay)\n",
        "\n",
        "# metrics \n",
        "train_accuracy = tf.keras.metrics.SparseCategoricalAccuracy('train_accuracy', dtype=tf.float32) \n",
        "\n",
        "# optimizer\n",
        "optimizer = tf.keras.optimizers.Adam(lr=args.lr, clipnorm=1.,clipvalue=5, amsgrad=True, decay=0.0,)\n",
        "loss = SparseCategoricalCrossentropy_mask()\n",
        "# checkpoint manager\n",
        "#checkpoint_path=\"training/weights-improvement-{epoch:04d}-{val_train_accuracy:.2f}.ckpt\"\n",
        "checkpoint_path=\"training/weights-improvement-{epoch:04d}.ckpt\"\n",
        "checkpoint_dir = os.path.dirname(checkpoint_path)\n",
        "cp_callback = tf.keras.callbacks.ModelCheckpoint(checkpoint_path, verbose=1, \n",
        "                                                     save_best_only=False, mode='auto', save_weights_only=True, save_freq='epoch') \n",
        "callbacks_list = [lrate, cp_callback] # cp_callback #monitor='val_acc'"
      ],
      "execution_count": null,
      "outputs": []
    },
    {
      "cell_type": "code",
      "metadata": {
        "id": "cMuaQ5bECcGH"
      },
      "source": [
        "!ls {checkpoint_dir}\n"
      ],
      "execution_count": null,
      "outputs": []
    },
    {
      "cell_type": "code",
      "metadata": {
        "id": "0beYAWKQCcGN"
      },
      "source": [
        "datasets_train, generators_train = build_datasets(pre_dataset, indexes, args, set_='train')\n",
        "datasets_test, generators_test = build_datasets(pre_dataset, indexes, args, set_='test')"
      ],
      "execution_count": null,
      "outputs": []
    },
    {
      "cell_type": "code",
      "metadata": {
        "id": "ZTTh-tTJCcGz"
      },
      "source": [
        "tf.keras.backend.clear_session()\n",
        "modelSLT.compile(optimizer=optimizer, loss=loss, metrics=train_accuracy)"
      ],
      "execution_count": null,
      "outputs": []
    },
    {
      "cell_type": "code",
      "metadata": {
        "id": "1b8xJa7FCcG5"
      },
      "source": [
        "#latest = tf.train.latest_checkpoint(checkpoint_dir)\n",
        "#latest"
      ],
      "execution_count": null,
      "outputs": []
    },
    {
      "cell_type": "code",
      "metadata": {
        "id": "99BybLpXCcG-"
      },
      "source": [
        "# Load the previously saved weights\n",
        "#modelSLT.load_weights(latest)"
      ],
      "execution_count": null,
      "outputs": []
    },
    {
      "cell_type": "code",
      "metadata": {
        "id": "IrkQr6deUzFM",
        "scrolled": true
      },
      "source": [
        "modelSLT.save_weights(checkpoint_path.format(epoch=0))\n",
        "history = modelSLT.fit(datasets_train,\n",
        "                    epochs=args.epochs,\n",
        "                    callbacks=callbacks_list,\n",
        "                    verbose=1,\n",
        "                    )\n",
        "#validation_data=datasets_test,\n",
        "#validation_steps=len(indexes[1])-1"
      ],
      "execution_count": null,
      "outputs": []
    },
    {
      "cell_type": "code",
      "metadata": {
        "id": "QfmZZ0gCosRL"
      },
      "source": [
        "plt.title('Loss vs Val loss')\n",
        "plt.plot(history.history['loss'], label='train loss')\n",
        "#plt.plot(history.history['val_loss'], label='val loss')\n",
        "plt.xlabel('epochs')\n",
        "plt.ylabel('losses')\n",
        "plt.legend()\n",
        "plt.show()"
      ],
      "execution_count": null,
      "outputs": []
    },
    {
      "cell_type": "code",
      "metadata": {
        "id": "GWyYdaPSpOEP"
      },
      "source": [
        "plt.title('Acc vs Val acc')\n",
        "plt.plot(history.history['train_accuracy'], label='train acc')\n",
        "#plt.plot(history.history['val_train_accuracy'], label='val acc')\n",
        "plt.xlabel('epochs')\n",
        "plt.ylabel('accuracy')\n",
        "plt.legend()\n",
        "plt.show()"
      ],
      "execution_count": null,
      "outputs": []
    },
    {
      "cell_type": "code",
      "metadata": {
        "id": "KBguU7UtdNtB"
      },
      "source": [
        "#@title generating translations { display-mode: \"form\" }\n",
        " \n",
        "def video2text(dataset_valid, dataset_test, encoder_trained, decoder_trained, vocab, params, search='Greedy'):\n",
        "    from collections import defaultdict\n",
        "    import pickle\n",
        "    import tensorflow as tf\n",
        "    import numpy as np\n",
        "    import os\n",
        "\n",
        "    directory = params.dataset\n",
        "  \n",
        "    # Parent Directory path \n",
        "    parent_dir = params.path2save\n",
        "  \n",
        "    # Path \n",
        "    path_dir = os.path.join(parent_dir, directory) \n",
        "  \n",
        "    # Create the directory \n",
        "    try: \n",
        "        os.makedirs(path_dir, exist_ok = True) \n",
        "        print(\"Directory '%s' created successfully\" %directory) \n",
        "    except OSError as error: \n",
        "        print(\"Directory '%s' can not be created\")     \n",
        "    \n",
        "    #datasets = [dataset_valid, dataset_test]\n",
        "    datasets = [dataset_test]\n",
        "    results = defaultdict(dict)\n",
        "\n",
        "    index_word = vocab.index_word\n",
        "    word_index = vocab.word_index\n",
        "    \n",
        "    for name, dataset in zip(['test'],datasets):\n",
        "        counter_video = 1 \n",
        "        file_translations = open(path_dir+'/translations.'+name,\"a+\")\n",
        "        file_references = open(path_dir+'/references.'+name,\"a+\")\n",
        "        for x, y in dataset:\n",
        "            print('Video sign: {}'.format(counter_video))\n",
        "            video = x['encoder_input']\n",
        "            target = y.numpy().ravel()\n",
        "            sentence_target = [index_word[target[i]] for i in range(0,len(target)) if target[i]!=0]\n",
        "            reference = \" \".join(sentence_target)\n",
        "            print('\\nReference: ', reference)     \n",
        "            h1, c1, h2, c2, h3, c3, h4, c4, enc_outputs_high, self_att, w4, w5  = encoder_trained.predict(video) \n",
        "            word_input = np.zeros((1, 1))\n",
        "            word_input[0, 0] = word_index['<s>']\n",
        "            stop_condition = False\n",
        "            decoded_sentence = list()\n",
        "            temporal_weights = list()\n",
        "            while not stop_condition:\n",
        "                prediction, h1, c1, h2, c2, h3, c3, h4, c4, att_w_temporal = decoder_trained.predict([enc_outputs_high, \n",
        "                                                                                      h1, c1, \n",
        "                                                                                      h2, c2,\n",
        "                                                                                      h3, c3,\n",
        "                                                                                      h4, c4,\n",
        "                                                                                      word_input])\n",
        "                #predicted_id = tf.random.categorical(tf.squeeze(prediction, axis=1), 1)[0][0].numpy()\n",
        "                #predicted_id = tf.math.argmax(prediction).numpy()\n",
        "                predicted_id = np.argmax(prediction)\n",
        "                temporal_weights.append(att_w_temporal)\n",
        "                word = index_word[predicted_id]\n",
        "                decoded_sentence.append(word)\n",
        "                if (word == '</s>' or len(decoded_sentence) > params.ty):\n",
        "                    stop_condition = True\n",
        "                if search==\"Greedy\":\n",
        "                        word_input = np.zeros((1, 1))\n",
        "                        word_input[0, 0] = predicted_id\n",
        "\n",
        "            file_references.write(reference.replace('</s>',''))\n",
        "            file_references.write('\\n')\n",
        "            translate = \" \".join(decoded_sentence)\n",
        "            file_translations.write(translate.replace('</s>',''))\n",
        "            file_translations.write('\\n')\n",
        "            print('Translation: {}'.format(translate))\n",
        "            print('\\n')\n",
        "            results[name][counter_video] = [decoded_sentence, sentence_target, temporal_weights, w4, w5, self_att]\n",
        "            decoded_sentence = list()\n",
        "            counter_video = counter_video + 1\n",
        "        file_translations.close()\n",
        "        file_references.close()\n",
        "    with open(path_dir+'/'+params.name+'.pkl', 'wb') as file:\n",
        "        pickle.dump(results, file)  \n",
        "    \n",
        "    #return results\n",
        "\n",
        "\n",
        "\n",
        "\n",
        "def plot_dataset(dataset, ncols=6, nrows=6):\n",
        "    ncols, nrows = ncols, nrows\n",
        "    \n",
        "    for i, triple in enumerate(dataset):\n",
        "      fig = plt.gcf()\n",
        "      fig.set_size_inches(ncols*3, nrows*3)\n",
        "      if i in [0,15,20,30,40,70,100,150,300,350,400,450,500, 520, 550]:\n",
        "          video = triple[0]['encoder_input'].numpy()\n",
        "          step_images = int(video.shape[1]/ncols+1)\n",
        "          for enum, j in enumerate(range(0, video.shape[1], step_images)): \n",
        "              sp = plt.subplot(nrows, ncols, enum + 1)\n",
        "              sp.axis('Off');\n",
        "              plt.imshow(video[0,j,:,:,:]);\n",
        "          #print(\"Source: \", \" \".join([vocab.index_word[j] for j in triple[0]['decoder_input'].numpy()[0,:]]))\n",
        "          print(\"Target: \", \" \".join([vocab.index_word[np.argmax(triple[1].numpy()[0,h,:])] for h in range(args.ty)]))\n",
        "          plt.show();\n",
        "      else:\n",
        "          continue \n",
        "            \n",
        "def predict_sentence(x, y, params, search='Greedy'):\n",
        "    video = x['encoder_input']\n",
        "    target = y.numpy().ravel()\n",
        "    sentence_target = [index_word[target[i]] for i in range(0,len(target)) if target[i]!=0]\n",
        "    reference = \" \".join(sentence_target)\n",
        "    #print('\\nReference: ', reference)     \n",
        "    h1, c1, h2, c2, h3, c3, h4, c4, enc_outputs_high, self_att, w4, w5  = encoder_model.predict(video) \n",
        "    word_input = np.zeros((1, 1))\n",
        "    word_input[0, 0] = word_index['<s>']\n",
        "    stop_condition = False\n",
        "    decoded_sentence = list()\n",
        "    temporal_weights = list()\n",
        "    while not stop_condition:\n",
        "        prediction, h1, c1, h2, c2, h3, c3, h4, c4, att_w_temporal = decoder_model.predict([enc_outputs_high, \n",
        "                                                                              h1, c1, \n",
        "                                                                              h2, c2,\n",
        "                                                                              h3, c3,\n",
        "                                                                              h4, c4,\n",
        "                                                                              word_input])\n",
        "        #predicted_id = tf.random.categorical(tf.squeeze(prediction, axis=1), 1)[0][0].numpy()\n",
        "        #predicted_id = tf.math.argmax(prediction).numpy()\n",
        "        predicted_id = np.argmax(prediction)\n",
        "        temporal_weights.append(att_w_temporal)\n",
        "        word = index_word[predicted_id]\n",
        "        decoded_sentence.append(word)\n",
        "        if (word == '</s>' or len(decoded_sentence) > params.ty):\n",
        "            stop_condition = True\n",
        "        if search==\"Greedy\":\n",
        "                word_input = np.zeros((1, 1))\n",
        "                word_input[0, 0] = predicted_id\n",
        "\n",
        "        translate = \" \".join(decoded_sentence)  \n",
        "    return reference, translate, temporal_weights            "
      ],
      "execution_count": null,
      "outputs": []
    },
    {
      "cell_type": "code",
      "metadata": {
        "id": "-LPsGL-4rZeG"
      },
      "source": [
        "video2text(datasets_test, datasets_test, encoder_model, decoder_model, vocab, args, search='Greedy')"
      ],
      "execution_count": null,
      "outputs": []
    },
    {
      "cell_type": "code",
      "metadata": {
        "id": "EYQlA2xl6JmN"
      },
      "source": [
        "modelSLT.save('training/model') "
      ],
      "execution_count": null,
      "outputs": []
    },
    {
      "cell_type": "markdown",
      "metadata": {
        "id": "mQlsMyUKCcHx"
      },
      "source": [
        "## Visualizations"
      ]
    },
    {
      "cell_type": "code",
      "metadata": {
        "id": "_YAKCL7kCcH0"
      },
      "source": [
        "from skimage.transform import resize \n",
        "import matplotlib.pyplot as plt\n",
        "from skimage.io import imread, imsave\n",
        "import random\n",
        "import imageio\n",
        "from tensorflow.keras.preprocessing.image import img_to_array, load_img\n",
        "%config InlineBackend.figure_format=\"svg\"\n",
        "%matplotlib inline\n",
        "import numpy as np\n",
        "import random\n",
        "import matplotlib"
      ],
      "execution_count": null,
      "outputs": []
    },
    {
      "cell_type": "code",
      "metadata": {
        "id": "-WFuecyTCcH7"
      },
      "source": [
        "layers_dict = {}\n",
        "for j, layer in enumerate(modelSLT.layers[:]):\n",
        "    layers_dict[layer.name] = (j,layer.output)\n",
        "layers_dict    "
      ],
      "execution_count": null,
      "outputs": []
    },
    {
      "cell_type": "code",
      "metadata": {
        "id": "m_NDcG7JCcID"
      },
      "source": [
        "index_word = vocab.index_word\n",
        "word_index = vocab.word_index\n",
        "n = np.random.randint(1,5)\n",
        "for dict_x, y in datasets_test.skip(n).take(1):\n",
        "    x = dict_x['encoder_input']\n",
        "    reference, translation, temporal_weights = predict_sentence(dict_x, y, params=args, search='Greedy')\n",
        "    print('Reference: ', reference)\n",
        "    for number_layer in [1, 3, 7, 11, 15, 20]:\n",
        "        name_layer = modelSLT.layers[number_layer].name\n",
        "        successive_outputs = modelSLT.layers[number_layer].output\n",
        "        visualization_model = tf.keras.models.Model(inputs = encoder_model.input, \n",
        "                                                    outputs = successive_outputs)\n",
        "        successive_feature_maps = visualization_model.predict(x)\n",
        "\n",
        "        if 'LTC_sign_model' in name_layer:\n",
        "            features = np.squeeze(successive_feature_maps[0])\n",
        "            weights5 = np.squeeze(successive_feature_maps[1])\n",
        "            weights6 = np.squeeze(successive_feature_maps[2])\n",
        "            features_5_pre = np.squeeze(successive_feature_maps[3]) \n",
        "            features_5_post = np.squeeze(successive_feature_maps[4])\n",
        "            print(np.mean(features_5_pre.ravel()))\n",
        "            print(np.mean(features_5_post.ravel()))\n",
        "            plt.imshow(features_5_pre[50,:,:,100])\n",
        "            plt.show()\n",
        "            plt.imshow(features_5_post[50,:,:,100])\n",
        "            plt.show()\n",
        "            \n",
        "            \n",
        "            \n",
        "            #features_6_pre = np.squeeze(successive_feature_maps[5]) \n",
        "            #features_6_post = np.squeeze(successive_feature_maps[6]) \n",
        "            print('LTC weight matrix volumen 5')\n",
        "            fig = plt.figure(figsize=(2,2))\n",
        "            vol = weights5[:,:,:]\n",
        "\n",
        "            # create the figura with 4 columns and 3 rows\n",
        "            fig = plt.gcf()\n",
        "            ncols, nrows = 8, 8\n",
        "            fig.set_size_inches(ncols*2, nrows*1)\n",
        "\n",
        "            for i, f in enumerate(np.random.randint(0, vol.shape[0], 64)):\n",
        "              # Set up subplot; subplot indices start at 1\n",
        "              sp = plt.subplot(nrows, ncols, i + 1)\n",
        "              sp.axis('Off') # Don't show axes (or gridlines)\n",
        "              img = vol[f,:,:] \n",
        "              #sp.set_title('Filter: {} dim: {}'.format(i,img.shape))\n",
        "              plt.imshow(img, cmap=matplotlib.cm.get_cmap('hot_r'))\n",
        "\n",
        "            plt.show()\n",
        "            print('LTC weight matrix volumen 6')\n",
        "            fig = plt.figure(figsize=(2,2))\n",
        "            vol = weights6[:,:,:]\n",
        "\n",
        "            # create the figura with 4 columns and 3 rows\n",
        "            fig = plt.gcf()\n",
        "            ncols, nrows = 8, 8\n",
        "            fig.set_size_inches(ncols*2, nrows*1)\n",
        "\n",
        "            for i in range(ncols*nrows):\n",
        "              # Set up subplot; subplot indices start at 1\n",
        "              sp = plt.subplot(nrows, ncols, i + 1)\n",
        "              sp.axis('Off') # Don't show axes (or gridlines)\n",
        "              img = vol[i,:,:] \n",
        "              #sp.set_title('Filter: {} dim: {}'.format(i,img.shape))\n",
        "              plt.imshow(img, cmap=matplotlib.cm.get_cmap('hot_r'))\n",
        "\n",
        "            plt.show() \n",
        "            \n",
        "            plt.imshow(features, cmap=matplotlib.cm.get_cmap('hot_r'))\n",
        "            plt.title('Feature matrix descriptor')\n",
        "            plt.show()\n",
        "\n",
        "        # BiLSTM enc out\n",
        "        if 'BiLSTM' in name_layer:\n",
        "            feature_map = np.squeeze(successive_feature_maps[0])\n",
        "            plt.imshow(feature_map, cmap='coolwarm');\n",
        "            plt.title('Enconder {} descriptors'.format(name_layer))\n",
        "            plt.xlabel('Descriptors dimension')\n",
        "            plt.ylabel('Filters')\n",
        "            plt.colorbar(orientation='horizontal');             \n",
        "            plt.show()\n",
        "            \n",
        "        # self enc \n",
        "        if 'self' in name_layer:\n",
        "            self_out = np.squeeze(successive_feature_maps[0])\n",
        "            self_weights = np.squeeze(successive_feature_maps[1])\n",
        "            \n",
        "            plt.imshow(np.squeeze(self_weights), cmap=matplotlib.cm.get_cmap('hot_r'));\n",
        "            plt.title('Enconder {} attention weights'.format(name_layer))\n",
        "            plt.xlabel('Encoder descriptors')\n",
        "            plt.ylabel('Encoder descriptors')\n",
        "            plt.colorbar(); \n",
        "            plt.show()            \n",
        "            \n",
        "            plt.imshow(self_out, cmap='coolwarm');\n",
        "            plt.title('Enconder {} descriptors'.format(name_layer))\n",
        "            plt.xlabel('Descriptors dimension')\n",
        "            plt.ylabel('Filters')\n",
        "            plt.colorbar(orientation='horizontal');             \n",
        "            plt.show()\n",
        "    final = True        \n",
        "    if final:\n",
        "        att_weights = np.array(temporal_weights)\n",
        "\n",
        "        fig = plt.figure(figsize=(10,6));\n",
        "        plt.imshow(np.squeeze(att_weights), cmap=matplotlib.cm.get_cmap('hot_r'));\n",
        "        plt.title('Decoder TEMPORAL attention weights')\n",
        "        plt.ylabel('Words')\n",
        "        plt.xlabel('Encoder descriptors')\n",
        "        plt.yticks(range(0,len(translation.split(' '))),translation.split(' '))\n",
        "        plt.colorbar(orientation='horizontal');\n",
        "        plt.show()\n",
        "        \n",
        "        fig = pd.DataFrame(np.squeeze(att_weights).T, columns=translation.split(' ')).plot(figsize=(10,6));\n",
        "        fig.set_title('Decoder TEMPORAL attention distribution');\n",
        "        fig.set_ylabel('Weights');\n",
        "        fig.set_xlabel('Encoder descriptors');\n"
      ],
      "execution_count": null,
      "outputs": []
    },
    {
      "cell_type": "code",
      "metadata": {
        "id": "2Q2Mbln_CcIL"
      },
      "source": [
        "images = []\n",
        "\n",
        "for d in range(dim):\n",
        "    img = feature_map[d,:,:,0]\n",
        "    images.append(img)\n",
        "    plt.imshow(img, aspect='auto', cmap='hot')\n",
        "    plt.axis('off')\n",
        "    plt.savefig('Presentations/figures/CSLDflow'+str(d)+\".png\",  bbox_inches='tight') \n",
        "    plt.colorbar()\n",
        "    plt.show()\n",
        "imageio.mimsave(os.path.join(os.getcwd(), 'Presentations', \"con6_128_60_flow_CSLD.gif\"), images)  "
      ],
      "execution_count": null,
      "outputs": []
    },
    {
      "cell_type": "code",
      "metadata": {
        "id": "hfuDqv4uCcIS"
      },
      "source": [
        ""
      ],
      "execution_count": null,
      "outputs": []
    }
  ]
}